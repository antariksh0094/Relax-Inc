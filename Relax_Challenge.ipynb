{
  "nbformat": 4,
  "nbformat_minor": 0,
  "metadata": {
    "kernelspec": {
      "display_name": "Python 3",
      "language": "python",
      "name": "python3"
    },
    "language_info": {
      "codemirror_mode": {
        "name": "ipython",
        "version": 3
      },
      "file_extension": ".py",
      "mimetype": "text/x-python",
      "name": "python",
      "nbconvert_exporter": "python",
      "pygments_lexer": "ipython3",
      "version": "3.7.6"
    },
    "colab": {
      "name": "Relax_Challenge.ipynb",
      "provenance": []
    }
  },
  "cells": [
    {
      "cell_type": "code",
      "metadata": {
        "id": "FrvJNIa_q5t7",
        "colab_type": "code",
        "colab": {
          "base_uri": "https://localhost:8080/",
          "height": 123
        },
        "outputId": "0a334025-b6a9-41b1-be5b-e3c42735b17b"
      },
      "source": [
        "from google.colab import drive\n",
        "drive.mount('/content/drive/')"
      ],
      "execution_count": 3,
      "outputs": [
        {
          "output_type": "stream",
          "text": [
            "Go to this URL in a browser: https://accounts.google.com/o/oauth2/auth?client_id=947318989803-6bn6qk8qdgf4n4g3pfee6491hc0brc4i.apps.googleusercontent.com&redirect_uri=urn%3aietf%3awg%3aoauth%3a2.0%3aoob&scope=email%20https%3a%2f%2fwww.googleapis.com%2fauth%2fdocs.test%20https%3a%2f%2fwww.googleapis.com%2fauth%2fdrive%20https%3a%2f%2fwww.googleapis.com%2fauth%2fdrive.photos.readonly%20https%3a%2f%2fwww.googleapis.com%2fauth%2fpeopleapi.readonly&response_type=code\n",
            "\n",
            "Enter your authorization code:\n",
            "··········\n",
            "Mounted at /content/drive/\n"
          ],
          "name": "stdout"
        }
      ]
    },
    {
      "cell_type": "code",
      "metadata": {
        "id": "68iGWdwHq2yp",
        "colab_type": "code",
        "colab": {
          "base_uri": "https://localhost:8080/",
          "height": 71
        },
        "outputId": "f2db7bda-549a-4870-cb78-77f9d092a4f6"
      },
      "source": [
        "import numpy as np\n",
        "import pandas as pd\n",
        "import matplotlib.pyplot as plt\n",
        "import seaborn as sns"
      ],
      "execution_count": 5,
      "outputs": [
        {
          "output_type": "stream",
          "text": [
            "/usr/local/lib/python3.6/dist-packages/statsmodels/tools/_testing.py:19: FutureWarning: pandas.util.testing is deprecated. Use the functions in the public API at pandas.testing instead.\n",
            "  import pandas.util.testing as tm\n"
          ],
          "name": "stderr"
        }
      ]
    },
    {
      "cell_type": "code",
      "metadata": {
        "id": "0ooQj9Ooq2yt",
        "colab_type": "code",
        "colab": {}
      },
      "source": [
        "df = pd.read_csv(\"/content/drive/My Drive/Colab Notebooks/relax_challenge/takehome_users.csv\", encoding = \"latin-1\")"
      ],
      "execution_count": 6,
      "outputs": []
    },
    {
      "cell_type": "code",
      "metadata": {
        "id": "5Q56aiM5q2yv",
        "colab_type": "code",
        "colab": {
          "base_uri": "https://localhost:8080/",
          "height": 308
        },
        "outputId": "5e8c3825-2699-4d3f-e413-a483fa19ec64"
      },
      "source": [
        "df.head()"
      ],
      "execution_count": 7,
      "outputs": [
        {
          "output_type": "execute_result",
          "data": {
            "text/html": [
              "<div>\n",
              "<style scoped>\n",
              "    .dataframe tbody tr th:only-of-type {\n",
              "        vertical-align: middle;\n",
              "    }\n",
              "\n",
              "    .dataframe tbody tr th {\n",
              "        vertical-align: top;\n",
              "    }\n",
              "\n",
              "    .dataframe thead th {\n",
              "        text-align: right;\n",
              "    }\n",
              "</style>\n",
              "<table border=\"1\" class=\"dataframe\">\n",
              "  <thead>\n",
              "    <tr style=\"text-align: right;\">\n",
              "      <th></th>\n",
              "      <th>object_id</th>\n",
              "      <th>creation_time</th>\n",
              "      <th>name</th>\n",
              "      <th>email</th>\n",
              "      <th>creation_source</th>\n",
              "      <th>last_session_creation_time</th>\n",
              "      <th>opted_in_to_mailing_list</th>\n",
              "      <th>enabled_for_marketing_drip</th>\n",
              "      <th>org_id</th>\n",
              "      <th>invited_by_user_id</th>\n",
              "    </tr>\n",
              "  </thead>\n",
              "  <tbody>\n",
              "    <tr>\n",
              "      <th>0</th>\n",
              "      <td>1</td>\n",
              "      <td>2014-04-22 03:53:30</td>\n",
              "      <td>Clausen August</td>\n",
              "      <td>AugustCClausen@yahoo.com</td>\n",
              "      <td>GUEST_INVITE</td>\n",
              "      <td>1.398139e+09</td>\n",
              "      <td>1</td>\n",
              "      <td>0</td>\n",
              "      <td>11</td>\n",
              "      <td>10803.0</td>\n",
              "    </tr>\n",
              "    <tr>\n",
              "      <th>1</th>\n",
              "      <td>2</td>\n",
              "      <td>2013-11-15 03:45:04</td>\n",
              "      <td>Poole Matthew</td>\n",
              "      <td>MatthewPoole@gustr.com</td>\n",
              "      <td>ORG_INVITE</td>\n",
              "      <td>1.396238e+09</td>\n",
              "      <td>0</td>\n",
              "      <td>0</td>\n",
              "      <td>1</td>\n",
              "      <td>316.0</td>\n",
              "    </tr>\n",
              "    <tr>\n",
              "      <th>2</th>\n",
              "      <td>3</td>\n",
              "      <td>2013-03-19 23:14:52</td>\n",
              "      <td>Bottrill Mitchell</td>\n",
              "      <td>MitchellBottrill@gustr.com</td>\n",
              "      <td>ORG_INVITE</td>\n",
              "      <td>1.363735e+09</td>\n",
              "      <td>0</td>\n",
              "      <td>0</td>\n",
              "      <td>94</td>\n",
              "      <td>1525.0</td>\n",
              "    </tr>\n",
              "    <tr>\n",
              "      <th>3</th>\n",
              "      <td>4</td>\n",
              "      <td>2013-05-21 08:09:28</td>\n",
              "      <td>Clausen Nicklas</td>\n",
              "      <td>NicklasSClausen@yahoo.com</td>\n",
              "      <td>GUEST_INVITE</td>\n",
              "      <td>1.369210e+09</td>\n",
              "      <td>0</td>\n",
              "      <td>0</td>\n",
              "      <td>1</td>\n",
              "      <td>5151.0</td>\n",
              "    </tr>\n",
              "    <tr>\n",
              "      <th>4</th>\n",
              "      <td>5</td>\n",
              "      <td>2013-01-17 10:14:20</td>\n",
              "      <td>Raw Grace</td>\n",
              "      <td>GraceRaw@yahoo.com</td>\n",
              "      <td>GUEST_INVITE</td>\n",
              "      <td>1.358850e+09</td>\n",
              "      <td>0</td>\n",
              "      <td>0</td>\n",
              "      <td>193</td>\n",
              "      <td>5240.0</td>\n",
              "    </tr>\n",
              "  </tbody>\n",
              "</table>\n",
              "</div>"
            ],
            "text/plain": [
              "   object_id        creation_time  ... org_id invited_by_user_id\n",
              "0          1  2014-04-22 03:53:30  ...     11            10803.0\n",
              "1          2  2013-11-15 03:45:04  ...      1              316.0\n",
              "2          3  2013-03-19 23:14:52  ...     94             1525.0\n",
              "3          4  2013-05-21 08:09:28  ...      1             5151.0\n",
              "4          5  2013-01-17 10:14:20  ...    193             5240.0\n",
              "\n",
              "[5 rows x 10 columns]"
            ]
          },
          "metadata": {
            "tags": []
          },
          "execution_count": 7
        }
      ]
    },
    {
      "cell_type": "code",
      "metadata": {
        "id": "l_LgI_vZq2yy",
        "colab_type": "code",
        "colab": {
          "base_uri": "https://localhost:8080/",
          "height": 308
        },
        "outputId": "3345ca64-f328-4969-d556-8ac0048a00ac"
      },
      "source": [
        "df.info()"
      ],
      "execution_count": 8,
      "outputs": [
        {
          "output_type": "stream",
          "text": [
            "<class 'pandas.core.frame.DataFrame'>\n",
            "RangeIndex: 12000 entries, 0 to 11999\n",
            "Data columns (total 10 columns):\n",
            " #   Column                      Non-Null Count  Dtype  \n",
            "---  ------                      --------------  -----  \n",
            " 0   object_id                   12000 non-null  int64  \n",
            " 1   creation_time               12000 non-null  object \n",
            " 2   name                        12000 non-null  object \n",
            " 3   email                       12000 non-null  object \n",
            " 4   creation_source             12000 non-null  object \n",
            " 5   last_session_creation_time  8823 non-null   float64\n",
            " 6   opted_in_to_mailing_list    12000 non-null  int64  \n",
            " 7   enabled_for_marketing_drip  12000 non-null  int64  \n",
            " 8   org_id                      12000 non-null  int64  \n",
            " 9   invited_by_user_id          6417 non-null   float64\n",
            "dtypes: float64(2), int64(4), object(4)\n",
            "memory usage: 937.6+ KB\n"
          ],
          "name": "stdout"
        }
      ]
    },
    {
      "cell_type": "code",
      "metadata": {
        "id": "bT_HX9PXq2y1",
        "colab_type": "code",
        "colab": {
          "base_uri": "https://localhost:8080/",
          "height": 34
        },
        "outputId": "162a96ec-d9bb-42f5-87bd-8482ef5502bb"
      },
      "source": [
        "type(df['creation_time'][0])"
      ],
      "execution_count": 9,
      "outputs": [
        {
          "output_type": "execute_result",
          "data": {
            "text/plain": [
              "str"
            ]
          },
          "metadata": {
            "tags": []
          },
          "execution_count": 9
        }
      ]
    },
    {
      "cell_type": "code",
      "metadata": {
        "id": "45FjbuNxq2y3",
        "colab_type": "code",
        "colab": {
          "base_uri": "https://localhost:8080/",
          "height": 120
        },
        "outputId": "7fc32862-8b7d-4a45-86f5-a65900505296"
      },
      "source": [
        "df['creation_source'].value_counts().sort_values(ascending=False)"
      ],
      "execution_count": 10,
      "outputs": [
        {
          "output_type": "execute_result",
          "data": {
            "text/plain": [
              "ORG_INVITE            4254\n",
              "GUEST_INVITE          2163\n",
              "PERSONAL_PROJECTS     2111\n",
              "SIGNUP                2087\n",
              "SIGNUP_GOOGLE_AUTH    1385\n",
              "Name: creation_source, dtype: int64"
            ]
          },
          "metadata": {
            "tags": []
          },
          "execution_count": 10
        }
      ]
    },
    {
      "cell_type": "markdown",
      "metadata": {
        "id": "5wZL8uLMq2y5",
        "colab_type": "text"
      },
      "source": [
        "The least number of people have joined using google signups. Maximum number of people have joined with an organisational invite."
      ]
    },
    {
      "cell_type": "code",
      "metadata": {
        "id": "u5Z225EQq2y6",
        "colab_type": "code",
        "colab": {},
        "outputId": "1b1d1191-19a7-43ee-fd07-a8eaed48ee74"
      },
      "source": [
        "df['opted_in_to_mailing_list'].value_counts()"
      ],
      "execution_count": null,
      "outputs": [
        {
          "output_type": "execute_result",
          "data": {
            "text/plain": [
              "0    9006\n",
              "1    2994\n",
              "Name: opted_in_to_mailing_list, dtype: int64"
            ]
          },
          "metadata": {
            "tags": []
          },
          "execution_count": 17
        }
      ]
    },
    {
      "cell_type": "markdown",
      "metadata": {
        "id": "8IresQb2q2y-",
        "colab_type": "text"
      },
      "source": [
        "Three fourths of the people have not opted in to the mailing list. Relax need to investigate the reason why."
      ]
    },
    {
      "cell_type": "code",
      "metadata": {
        "id": "tM7IKgA4q2y-",
        "colab_type": "code",
        "colab": {}
      },
      "source": [
        "plt.rcParams['figure.figsize'] = 9,8"
      ],
      "execution_count": 11,
      "outputs": []
    },
    {
      "cell_type": "code",
      "metadata": {
        "id": "IH0F55OAq2zB",
        "colab_type": "code",
        "colab": {
          "base_uri": "https://localhost:8080/",
          "height": 516
        },
        "outputId": "f094ffa9-cbcd-4836-8c79-28a5ef8ffbe8"
      },
      "source": [
        "sns.countplot(df['creation_source'], hue=df['opted_in_to_mailing_list'])"
      ],
      "execution_count": 12,
      "outputs": [
        {
          "output_type": "execute_result",
          "data": {
            "text/plain": [
              "<matplotlib.axes._subplots.AxesSubplot at 0x7fefacb11710>"
            ]
          },
          "metadata": {
            "tags": []
          },
          "execution_count": 12
        },
        {
          "output_type": "display_data",
          "data": {
            "image/png": "[encoded data removed]",
            "text/plain": [
              "<Figure size 648x576 with 1 Axes>"
            ]
          },
          "metadata": {
            "tags": [],
            "needs_background": "light"
          }
        }
      ]
    },
    {
      "cell_type": "code",
      "metadata": {
        "id": "ijSU0sp0q2zC",
        "colab_type": "code",
        "colab": {},
        "outputId": "c8b078de-bdbe-4461-eb2a-3a5b8c88eba9"
      },
      "source": [
        "df['creation_source'].value_counts().sort_values(ascending=False)"
      ],
      "execution_count": null,
      "outputs": [
        {
          "output_type": "execute_result",
          "data": {
            "text/plain": [
              "ORG_INVITE            4254\n",
              "GUEST_INVITE          2163\n",
              "PERSONAL_PROJECTS     2111\n",
              "SIGNUP                2087\n",
              "SIGNUP_GOOGLE_AUTH    1385\n",
              "Name: creation_source, dtype: int64"
            ]
          },
          "metadata": {
            "tags": []
          },
          "execution_count": 35
        }
      ]
    },
    {
      "cell_type": "code",
      "metadata": {
        "id": "Anq0GhqJq2zE",
        "colab_type": "code",
        "colab": {},
        "outputId": "d85294e4-203e-4240-ae1c-5636b694367b"
      },
      "source": [
        "df.groupby('creation_source')['opted_in_to_mailing_list'].sum()"
      ],
      "execution_count": null,
      "outputs": [
        {
          "output_type": "execute_result",
          "data": {
            "text/plain": [
              "creation_source\n",
              "GUEST_INVITE           541\n",
              "ORG_INVITE            1078\n",
              "PERSONAL_PROJECTS      512\n",
              "SIGNUP                 525\n",
              "SIGNUP_GOOGLE_AUTH     338\n",
              "Name: opted_in_to_mailing_list, dtype: int64"
            ]
          },
          "metadata": {
            "tags": []
          },
          "execution_count": 32
        }
      ]
    },
    {
      "cell_type": "code",
      "metadata": {
        "id": "mUPfjaasq2zH",
        "colab_type": "code",
        "colab": {},
        "outputId": "636c52cd-7ec2-4be9-c7de-8bf20980eb1a"
      },
      "source": [
        "df.groupby('creation_source')['opted_in_to_mailing_list'].sum() / df['creation_source'].value_counts()"
      ],
      "execution_count": null,
      "outputs": [
        {
          "output_type": "execute_result",
          "data": {
            "text/plain": [
              "GUEST_INVITE          0.250116\n",
              "ORG_INVITE            0.253409\n",
              "PERSONAL_PROJECTS     0.242539\n",
              "SIGNUP                0.251557\n",
              "SIGNUP_GOOGLE_AUTH    0.244043\n",
              "dtype: float64"
            ]
          },
          "metadata": {
            "tags": []
          },
          "execution_count": 33
        }
      ]
    },
    {
      "cell_type": "markdown",
      "metadata": {
        "id": "GaxcDH3sq2zJ",
        "colab_type": "text"
      },
      "source": [
        "Above, we have plotted the ratio of opting in to mailing list, by creation source. The ratio is more or less constant across creation source types."
      ]
    },
    {
      "cell_type": "code",
      "metadata": {
        "id": "WHCtXjlQq2zJ",
        "colab_type": "code",
        "colab": {}
      },
      "source": [
        "from datetime import datetime"
      ],
      "execution_count": 13,
      "outputs": []
    },
    {
      "cell_type": "code",
      "metadata": {
        "id": "wEdukglPq2zL",
        "colab_type": "code",
        "colab": {},
        "outputId": "4984faf3-c202-47d5-af59-82c7b0040ba8"
      },
      "source": [
        "times = df['creation_time'][0]\n",
        "times"
      ],
      "execution_count": null,
      "outputs": [
        {
          "output_type": "execute_result",
          "data": {
            "text/plain": [
              "'2014-04-22 03:53:30'"
            ]
          },
          "metadata": {
            "tags": []
          },
          "execution_count": 48
        }
      ]
    },
    {
      "cell_type": "code",
      "metadata": {
        "id": "o09JZuKtq2zN",
        "colab_type": "code",
        "colab": {},
        "outputId": "92fc8ae9-d738-4ec3-ea3a-c166683d6b7e"
      },
      "source": [
        "date_obj = datetime.strptime(times, '%Y-%m-%d %H:%M:%S')\n",
        "print(date_obj.date())"
      ],
      "execution_count": null,
      "outputs": [
        {
          "output_type": "stream",
          "text": [
            "2014-04-22\n"
          ],
          "name": "stdout"
        }
      ]
    },
    {
      "cell_type": "code",
      "metadata": {
        "id": "fTk4Fy__q2zP",
        "colab_type": "code",
        "colab": {},
        "outputId": "2ee3e4ba-da6d-44cb-b600-65a76d24c339"
      },
      "source": [
        "date_time_str = '2018-06-29 08:15:27.243860'\n",
        "date_time_obj = datetime.strptime(date_time_str, '%Y-%m-%d %H:%M:%S.%f')\n",
        "\n",
        "print('Date:', date_time_obj.date())\n",
        "print('Time:', date_time_obj.time())\n",
        "print('Date-time:', date_time_obj)"
      ],
      "execution_count": null,
      "outputs": [
        {
          "output_type": "stream",
          "text": [
            "Date: 2018-06-29\n",
            "Time: 08:15:27.243860\n",
            "Date-time: 2018-06-29 08:15:27.243860\n"
          ],
          "name": "stdout"
        }
      ]
    },
    {
      "cell_type": "code",
      "metadata": {
        "id": "DBYYwSPeq2zR",
        "colab_type": "code",
        "colab": {},
        "outputId": "ea4c9a39-184c-409d-9198-d58ef37f7db0"
      },
      "source": [
        "now = datetime.now()\n",
        "print(datetime.timestamp(now))"
      ],
      "execution_count": null,
      "outputs": [
        {
          "output_type": "stream",
          "text": [
            "1598444385.707112\n"
          ],
          "name": "stdout"
        }
      ]
    },
    {
      "cell_type": "code",
      "metadata": {
        "id": "_tHBbKlBq2zT",
        "colab_type": "code",
        "colab": {
          "base_uri": "https://localhost:8080/",
          "height": 51
        },
        "outputId": "da0f59da-0ed5-48f7-d634-ecc83dd358b8"
      },
      "source": [
        "now = datetime.now()\n",
        "print(datetime.timestamp(now))\n",
        "print(now - datetime.fromtimestamp(df['last_session_creation_time'][0]))"
      ],
      "execution_count": 16,
      "outputs": [
        {
          "output_type": "stream",
          "text": [
            "1598460736.228448\n",
            "2318 days, 12:58:46.228448\n"
          ],
          "name": "stdout"
        }
      ]
    },
    {
      "cell_type": "code",
      "metadata": {
        "id": "0MM7orDuq2zV",
        "colab_type": "code",
        "colab": {}
      },
      "source": [
        "dfe = pd.read_csv(\"/content/drive/My Drive/Colab Notebooks/relax_challenge/takehome_user_engagement.csv\")"
      ],
      "execution_count": 18,
      "outputs": []
    },
    {
      "cell_type": "code",
      "metadata": {
        "id": "5HxQ9kbzq2zX",
        "colab_type": "code",
        "colab": {
          "base_uri": "https://localhost:8080/",
          "height": 212
        },
        "outputId": "db8548a9-7555-4875-882c-b85bb11d00e1"
      },
      "source": [
        "df.head(3)"
      ],
      "execution_count": 19,
      "outputs": [
        {
          "output_type": "execute_result",
          "data": {
            "text/html": [
              "<div>\n",
              "<style scoped>\n",
              "    .dataframe tbody tr th:only-of-type {\n",
              "        vertical-align: middle;\n",
              "    }\n",
              "\n",
              "    .dataframe tbody tr th {\n",
              "        vertical-align: top;\n",
              "    }\n",
              "\n",
              "    .dataframe thead th {\n",
              "        text-align: right;\n",
              "    }\n",
              "</style>\n",
              "<table border=\"1\" class=\"dataframe\">\n",
              "  <thead>\n",
              "    <tr style=\"text-align: right;\">\n",
              "      <th></th>\n",
              "      <th>object_id</th>\n",
              "      <th>creation_time</th>\n",
              "      <th>name</th>\n",
              "      <th>email</th>\n",
              "      <th>creation_source</th>\n",
              "      <th>last_session_creation_time</th>\n",
              "      <th>opted_in_to_mailing_list</th>\n",
              "      <th>enabled_for_marketing_drip</th>\n",
              "      <th>org_id</th>\n",
              "      <th>invited_by_user_id</th>\n",
              "    </tr>\n",
              "  </thead>\n",
              "  <tbody>\n",
              "    <tr>\n",
              "      <th>0</th>\n",
              "      <td>1</td>\n",
              "      <td>2014-04-22 03:53:30</td>\n",
              "      <td>Clausen August</td>\n",
              "      <td>AugustCClausen@yahoo.com</td>\n",
              "      <td>GUEST_INVITE</td>\n",
              "      <td>1.398139e+09</td>\n",
              "      <td>1</td>\n",
              "      <td>0</td>\n",
              "      <td>11</td>\n",
              "      <td>10803.0</td>\n",
              "    </tr>\n",
              "    <tr>\n",
              "      <th>1</th>\n",
              "      <td>2</td>\n",
              "      <td>2013-11-15 03:45:04</td>\n",
              "      <td>Poole Matthew</td>\n",
              "      <td>MatthewPoole@gustr.com</td>\n",
              "      <td>ORG_INVITE</td>\n",
              "      <td>1.396238e+09</td>\n",
              "      <td>0</td>\n",
              "      <td>0</td>\n",
              "      <td>1</td>\n",
              "      <td>316.0</td>\n",
              "    </tr>\n",
              "    <tr>\n",
              "      <th>2</th>\n",
              "      <td>3</td>\n",
              "      <td>2013-03-19 23:14:52</td>\n",
              "      <td>Bottrill Mitchell</td>\n",
              "      <td>MitchellBottrill@gustr.com</td>\n",
              "      <td>ORG_INVITE</td>\n",
              "      <td>1.363735e+09</td>\n",
              "      <td>0</td>\n",
              "      <td>0</td>\n",
              "      <td>94</td>\n",
              "      <td>1525.0</td>\n",
              "    </tr>\n",
              "  </tbody>\n",
              "</table>\n",
              "</div>"
            ],
            "text/plain": [
              "   object_id        creation_time  ... org_id invited_by_user_id\n",
              "0          1  2014-04-22 03:53:30  ...     11            10803.0\n",
              "1          2  2013-11-15 03:45:04  ...      1              316.0\n",
              "2          3  2013-03-19 23:14:52  ...     94             1525.0\n",
              "\n",
              "[3 rows x 10 columns]"
            ]
          },
          "metadata": {
            "tags": []
          },
          "execution_count": 19
        }
      ]
    },
    {
      "cell_type": "code",
      "metadata": {
        "id": "JQ-VZyW8q2zZ",
        "colab_type": "code",
        "colab": {
          "base_uri": "https://localhost:8080/",
          "height": 203
        },
        "outputId": "f80e6de4-f4b0-413f-954d-102f22a1b04d"
      },
      "source": [
        "dfe.head(5)"
      ],
      "execution_count": 20,
      "outputs": [
        {
          "output_type": "execute_result",
          "data": {
            "text/html": [
              "<div>\n",
              "<style scoped>\n",
              "    .dataframe tbody tr th:only-of-type {\n",
              "        vertical-align: middle;\n",
              "    }\n",
              "\n",
              "    .dataframe tbody tr th {\n",
              "        vertical-align: top;\n",
              "    }\n",
              "\n",
              "    .dataframe thead th {\n",
              "        text-align: right;\n",
              "    }\n",
              "</style>\n",
              "<table border=\"1\" class=\"dataframe\">\n",
              "  <thead>\n",
              "    <tr style=\"text-align: right;\">\n",
              "      <th></th>\n",
              "      <th>time_stamp</th>\n",
              "      <th>user_id</th>\n",
              "      <th>visited</th>\n",
              "    </tr>\n",
              "  </thead>\n",
              "  <tbody>\n",
              "    <tr>\n",
              "      <th>0</th>\n",
              "      <td>2014-04-22 03:53:30</td>\n",
              "      <td>1</td>\n",
              "      <td>1</td>\n",
              "    </tr>\n",
              "    <tr>\n",
              "      <th>1</th>\n",
              "      <td>2013-11-15 03:45:04</td>\n",
              "      <td>2</td>\n",
              "      <td>1</td>\n",
              "    </tr>\n",
              "    <tr>\n",
              "      <th>2</th>\n",
              "      <td>2013-11-29 03:45:04</td>\n",
              "      <td>2</td>\n",
              "      <td>1</td>\n",
              "    </tr>\n",
              "    <tr>\n",
              "      <th>3</th>\n",
              "      <td>2013-12-09 03:45:04</td>\n",
              "      <td>2</td>\n",
              "      <td>1</td>\n",
              "    </tr>\n",
              "    <tr>\n",
              "      <th>4</th>\n",
              "      <td>2013-12-25 03:45:04</td>\n",
              "      <td>2</td>\n",
              "      <td>1</td>\n",
              "    </tr>\n",
              "  </tbody>\n",
              "</table>\n",
              "</div>"
            ],
            "text/plain": [
              "            time_stamp  user_id  visited\n",
              "0  2014-04-22 03:53:30        1        1\n",
              "1  2013-11-15 03:45:04        2        1\n",
              "2  2013-11-29 03:45:04        2        1\n",
              "3  2013-12-09 03:45:04        2        1\n",
              "4  2013-12-25 03:45:04        2        1"
            ]
          },
          "metadata": {
            "tags": []
          },
          "execution_count": 20
        }
      ]
    },
    {
      "cell_type": "code",
      "metadata": {
        "id": "LdWmn4GEq2zb",
        "colab_type": "code",
        "colab": {},
        "outputId": "1ee9a44e-f282-4112-dfe7-6728b8ba4d23"
      },
      "source": [
        "dfe['visited'].value_counts()"
      ],
      "execution_count": null,
      "outputs": [
        {
          "output_type": "execute_result",
          "data": {
            "text/plain": [
              "1    207917\n",
              "Name: visited, dtype: int64"
            ]
          },
          "metadata": {
            "tags": []
          },
          "execution_count": 104
        }
      ]
    },
    {
      "cell_type": "code",
      "metadata": {
        "id": "0twJfm9fq2zf",
        "colab_type": "code",
        "colab": {}
      },
      "source": [
        "dfm = pd.merge(df, dfe, left_on = 'object_id', right_on = 'user_id')"
      ],
      "execution_count": 144,
      "outputs": []
    },
    {
      "cell_type": "code",
      "metadata": {
        "id": "1fO6pISJq2zc",
        "colab_type": "code",
        "colab": {
          "base_uri": "https://localhost:8080/",
          "height": 34
        },
        "outputId": "6cb0518b-42f3-4521-9b07-94bb3c863446"
      },
      "source": [
        "df.shape, dfe.shape, dfm.shape"
      ],
      "execution_count": 145,
      "outputs": [
        {
          "output_type": "execute_result",
          "data": {
            "text/plain": [
              "((12000, 10), (207917, 3), (207917, 13))"
            ]
          },
          "metadata": {
            "tags": []
          },
          "execution_count": 145
        }
      ]
    },
    {
      "cell_type": "code",
      "metadata": {
        "id": "WDBmQfo6q2zh",
        "colab_type": "code",
        "colab": {
          "base_uri": "https://localhost:8080/",
          "height": 212
        },
        "outputId": "6b661f88-5943-467e-d0c8-d81147b07485"
      },
      "source": [
        "dfm.head(3)"
      ],
      "execution_count": 24,
      "outputs": [
        {
          "output_type": "execute_result",
          "data": {
            "text/html": [
              "<div>\n",
              "<style scoped>\n",
              "    .dataframe tbody tr th:only-of-type {\n",
              "        vertical-align: middle;\n",
              "    }\n",
              "\n",
              "    .dataframe tbody tr th {\n",
              "        vertical-align: top;\n",
              "    }\n",
              "\n",
              "    .dataframe thead th {\n",
              "        text-align: right;\n",
              "    }\n",
              "</style>\n",
              "<table border=\"1\" class=\"dataframe\">\n",
              "  <thead>\n",
              "    <tr style=\"text-align: right;\">\n",
              "      <th></th>\n",
              "      <th>object_id</th>\n",
              "      <th>creation_time</th>\n",
              "      <th>name</th>\n",
              "      <th>email</th>\n",
              "      <th>creation_source</th>\n",
              "      <th>last_session_creation_time</th>\n",
              "      <th>opted_in_to_mailing_list</th>\n",
              "      <th>enabled_for_marketing_drip</th>\n",
              "      <th>org_id</th>\n",
              "      <th>invited_by_user_id</th>\n",
              "      <th>time_stamp</th>\n",
              "      <th>user_id</th>\n",
              "      <th>visited</th>\n",
              "    </tr>\n",
              "  </thead>\n",
              "  <tbody>\n",
              "    <tr>\n",
              "      <th>0</th>\n",
              "      <td>1</td>\n",
              "      <td>2014-04-22 03:53:30</td>\n",
              "      <td>Clausen August</td>\n",
              "      <td>AugustCClausen@yahoo.com</td>\n",
              "      <td>GUEST_INVITE</td>\n",
              "      <td>1.398139e+09</td>\n",
              "      <td>1</td>\n",
              "      <td>0</td>\n",
              "      <td>11</td>\n",
              "      <td>10803.0</td>\n",
              "      <td>2014-04-22 03:53:30</td>\n",
              "      <td>1</td>\n",
              "      <td>1</td>\n",
              "    </tr>\n",
              "    <tr>\n",
              "      <th>1</th>\n",
              "      <td>2</td>\n",
              "      <td>2013-11-15 03:45:04</td>\n",
              "      <td>Poole Matthew</td>\n",
              "      <td>MatthewPoole@gustr.com</td>\n",
              "      <td>ORG_INVITE</td>\n",
              "      <td>1.396238e+09</td>\n",
              "      <td>0</td>\n",
              "      <td>0</td>\n",
              "      <td>1</td>\n",
              "      <td>316.0</td>\n",
              "      <td>2013-11-15 03:45:04</td>\n",
              "      <td>2</td>\n",
              "      <td>1</td>\n",
              "    </tr>\n",
              "    <tr>\n",
              "      <th>2</th>\n",
              "      <td>2</td>\n",
              "      <td>2013-11-15 03:45:04</td>\n",
              "      <td>Poole Matthew</td>\n",
              "      <td>MatthewPoole@gustr.com</td>\n",
              "      <td>ORG_INVITE</td>\n",
              "      <td>1.396238e+09</td>\n",
              "      <td>0</td>\n",
              "      <td>0</td>\n",
              "      <td>1</td>\n",
              "      <td>316.0</td>\n",
              "      <td>2013-11-29 03:45:04</td>\n",
              "      <td>2</td>\n",
              "      <td>1</td>\n",
              "    </tr>\n",
              "  </tbody>\n",
              "</table>\n",
              "</div>"
            ],
            "text/plain": [
              "   object_id        creation_time  ... user_id visited\n",
              "0          1  2014-04-22 03:53:30  ...       1       1\n",
              "1          2  2013-11-15 03:45:04  ...       2       1\n",
              "2          2  2013-11-15 03:45:04  ...       2       1\n",
              "\n",
              "[3 rows x 13 columns]"
            ]
          },
          "metadata": {
            "tags": []
          },
          "execution_count": 24
        }
      ]
    },
    {
      "cell_type": "code",
      "metadata": {
        "id": "N6qUlwWrq2zm",
        "colab_type": "code",
        "colab": {}
      },
      "source": [
        "def make_timestamp(t):\n",
        "    datetime_obj = datetime.strptime(t, '%Y-%m-%d %H:%M:%S')\n",
        "    return datetime.timestamp(datetime_obj)"
      ],
      "execution_count": 25,
      "outputs": []
    },
    {
      "cell_type": "code",
      "metadata": {
        "id": "2WdEWJaSq2zo",
        "colab_type": "code",
        "colab": {}
      },
      "source": [
        "dfm['creation_timestamp'] = dfm['creation_time'].apply(make_timestamp)"
      ],
      "execution_count": 146,
      "outputs": []
    },
    {
      "cell_type": "code",
      "metadata": {
        "id": "8IwOW-Naq2zp",
        "colab_type": "code",
        "colab": {}
      },
      "source": [
        "dfm['login_time'] = dfm['time_stamp']\n",
        "dfm = dfm.drop('time_stamp', axis=1)"
      ],
      "execution_count": 147,
      "outputs": []
    },
    {
      "cell_type": "code",
      "metadata": {
        "id": "Ol8ctKJgq2zt",
        "colab_type": "code",
        "colab": {}
      },
      "source": [
        "dfm['login_timestamp'] = dfm['login_time'].apply(make_timestamp)"
      ],
      "execution_count": 148,
      "outputs": []
    },
    {
      "cell_type": "code",
      "metadata": {
        "id": "Ckx37GWXq2zr",
        "colab_type": "code",
        "colab": {
          "base_uri": "https://localhost:8080/",
          "height": 212
        },
        "outputId": "33422af5-8c71-4e8e-9a46-1e63d229acd7"
      },
      "source": [
        "dfm.head(3)"
      ],
      "execution_count": 149,
      "outputs": [
        {
          "output_type": "execute_result",
          "data": {
            "text/html": [
              "<div>\n",
              "<style scoped>\n",
              "    .dataframe tbody tr th:only-of-type {\n",
              "        vertical-align: middle;\n",
              "    }\n",
              "\n",
              "    .dataframe tbody tr th {\n",
              "        vertical-align: top;\n",
              "    }\n",
              "\n",
              "    .dataframe thead th {\n",
              "        text-align: right;\n",
              "    }\n",
              "</style>\n",
              "<table border=\"1\" class=\"dataframe\">\n",
              "  <thead>\n",
              "    <tr style=\"text-align: right;\">\n",
              "      <th></th>\n",
              "      <th>object_id</th>\n",
              "      <th>creation_time</th>\n",
              "      <th>name</th>\n",
              "      <th>email</th>\n",
              "      <th>creation_source</th>\n",
              "      <th>last_session_creation_time</th>\n",
              "      <th>opted_in_to_mailing_list</th>\n",
              "      <th>enabled_for_marketing_drip</th>\n",
              "      <th>org_id</th>\n",
              "      <th>invited_by_user_id</th>\n",
              "      <th>user_id</th>\n",
              "      <th>visited</th>\n",
              "      <th>creation_timestamp</th>\n",
              "      <th>login_time</th>\n",
              "      <th>login_timestamp</th>\n",
              "    </tr>\n",
              "  </thead>\n",
              "  <tbody>\n",
              "    <tr>\n",
              "      <th>0</th>\n",
              "      <td>1</td>\n",
              "      <td>2014-04-22 03:53:30</td>\n",
              "      <td>Clausen August</td>\n",
              "      <td>AugustCClausen@yahoo.com</td>\n",
              "      <td>GUEST_INVITE</td>\n",
              "      <td>1.398139e+09</td>\n",
              "      <td>1</td>\n",
              "      <td>0</td>\n",
              "      <td>11</td>\n",
              "      <td>10803.0</td>\n",
              "      <td>1</td>\n",
              "      <td>1</td>\n",
              "      <td>1.398139e+09</td>\n",
              "      <td>2014-04-22 03:53:30</td>\n",
              "      <td>1.398139e+09</td>\n",
              "    </tr>\n",
              "    <tr>\n",
              "      <th>1</th>\n",
              "      <td>2</td>\n",
              "      <td>2013-11-15 03:45:04</td>\n",
              "      <td>Poole Matthew</td>\n",
              "      <td>MatthewPoole@gustr.com</td>\n",
              "      <td>ORG_INVITE</td>\n",
              "      <td>1.396238e+09</td>\n",
              "      <td>0</td>\n",
              "      <td>0</td>\n",
              "      <td>1</td>\n",
              "      <td>316.0</td>\n",
              "      <td>2</td>\n",
              "      <td>1</td>\n",
              "      <td>1.384487e+09</td>\n",
              "      <td>2013-11-15 03:45:04</td>\n",
              "      <td>1.384487e+09</td>\n",
              "    </tr>\n",
              "    <tr>\n",
              "      <th>2</th>\n",
              "      <td>2</td>\n",
              "      <td>2013-11-15 03:45:04</td>\n",
              "      <td>Poole Matthew</td>\n",
              "      <td>MatthewPoole@gustr.com</td>\n",
              "      <td>ORG_INVITE</td>\n",
              "      <td>1.396238e+09</td>\n",
              "      <td>0</td>\n",
              "      <td>0</td>\n",
              "      <td>1</td>\n",
              "      <td>316.0</td>\n",
              "      <td>2</td>\n",
              "      <td>1</td>\n",
              "      <td>1.384487e+09</td>\n",
              "      <td>2013-11-29 03:45:04</td>\n",
              "      <td>1.385697e+09</td>\n",
              "    </tr>\n",
              "  </tbody>\n",
              "</table>\n",
              "</div>"
            ],
            "text/plain": [
              "   object_id        creation_time  ...           login_time login_timestamp\n",
              "0          1  2014-04-22 03:53:30  ...  2014-04-22 03:53:30    1.398139e+09\n",
              "1          2  2013-11-15 03:45:04  ...  2013-11-15 03:45:04    1.384487e+09\n",
              "2          2  2013-11-15 03:45:04  ...  2013-11-29 03:45:04    1.385697e+09\n",
              "\n",
              "[3 rows x 15 columns]"
            ]
          },
          "metadata": {
            "tags": []
          },
          "execution_count": 149
        }
      ]
    },
    {
      "cell_type": "code",
      "metadata": {
        "id": "63PoLdGcq2zv",
        "colab_type": "code",
        "colab": {}
      },
      "source": [
        "pd.set_option('display.max_rows', 200)"
      ],
      "execution_count": 31,
      "outputs": []
    },
    {
      "cell_type": "markdown",
      "metadata": {
        "id": "2YEob0aTq2zx",
        "colab_type": "text"
      },
      "source": [
        "Let us drop those users who have logged in at most 2 times."
      ]
    },
    {
      "cell_type": "code",
      "metadata": {
        "id": "L-Coa71iq2zx",
        "colab_type": "code",
        "colab": {}
      },
      "source": [
        "rare_users = dfm['user_id'].value_counts()[dfm['user_id'].value_counts() <= 2].index\n",
        "rare_users =list(rare_users)"
      ],
      "execution_count": 108,
      "outputs": []
    },
    {
      "cell_type": "code",
      "metadata": {
        "id": "4BOryyYquU2R",
        "colab_type": "code",
        "colab": {
          "base_uri": "https://localhost:8080/",
          "height": 1000
        },
        "outputId": "ba1eaf3f-49d0-49cf-f52e-db3e22a3ee45"
      },
      "source": [
        "rare_users"
      ],
      "execution_count": 151,
      "outputs": [
        {
          "output_type": "execute_result",
          "data": {
            "text/plain": [
              "[2377,\n",
              " 5029,\n",
              " 7753,\n",
              " 6969,\n",
              " 10943,\n",
              " 2747,\n",
              " 3272,\n",
              " 4099,\n",
              " 7175,\n",
              " 7861,\n",
              " 7625,\n",
              " 6678,\n",
              " 6161,\n",
              " 10962,\n",
              " 6996,\n",
              " 6603,\n",
              " 10922,\n",
              " 7085,\n",
              " 7585,\n",
              " 4810,\n",
              " 1610,\n",
              " 9522,\n",
              " 10146,\n",
              " 6085,\n",
              " 10496,\n",
              " 4153,\n",
              " 822,\n",
              " 1301,\n",
              " 6200,\n",
              " 10179,\n",
              " 128,\n",
              " 7952,\n",
              " 2760,\n",
              " 8641,\n",
              " 10279,\n",
              " 2630,\n",
              " 10078,\n",
              " 8618,\n",
              " 5894,\n",
              " 9165,\n",
              " 9662,\n",
              " 8881,\n",
              " 10407,\n",
              " 5300,\n",
              " 6548,\n",
              " 2198,\n",
              " 11947,\n",
              " 7207,\n",
              " 11667,\n",
              " 9052,\n",
              " 2450,\n",
              " 5178,\n",
              " 771,\n",
              " 2722,\n",
              " 9308,\n",
              " 675,\n",
              " 1571,\n",
              " 1591,\n",
              " 8637,\n",
              " 2136,\n",
              " 789,\n",
              " 10758,\n",
              " 4539,\n",
              " 2434,\n",
              " 4500,\n",
              " 10154,\n",
              " 3800,\n",
              " 5168,\n",
              " 9820,\n",
              " 2118,\n",
              " 5760,\n",
              " 3033,\n",
              " 2603,\n",
              " 6458,\n",
              " 19,\n",
              " 5635,\n",
              " 5717,\n",
              " 4152,\n",
              " 682,\n",
              " 6985,\n",
              " 3619,\n",
              " 7824,\n",
              " 10658,\n",
              " 10000,\n",
              " 2137,\n",
              " 6857,\n",
              " 1079,\n",
              " 11084,\n",
              " 9622,\n",
              " 6746,\n",
              " 6950,\n",
              " 11921,\n",
              " 291,\n",
              " 3331,\n",
              " 5504,\n",
              " 7424,\n",
              " 7877,\n",
              " 3153,\n",
              " 5539,\n",
              " 11211,\n",
              " 5919,\n",
              " 7838,\n",
              " 7438,\n",
              " 6450,\n",
              " 7582,\n",
              " 338,\n",
              " 8969,\n",
              " 10925,\n",
              " 11016,\n",
              " 11595,\n",
              " 7876,\n",
              " 9802,\n",
              " 413,\n",
              " 9930,\n",
              " 922,\n",
              " 7822,\n",
              " 4892,\n",
              " 973,\n",
              " 6079,\n",
              " 4815,\n",
              " 8250,\n",
              " 5174,\n",
              " 10395,\n",
              " 777,\n",
              " 11464,\n",
              " 7690,\n",
              " 11020,\n",
              " 7834,\n",
              " 1949,\n",
              " 5046,\n",
              " 1933,\n",
              " 3027,\n",
              " 6583,\n",
              " 11963,\n",
              " 3903,\n",
              " 667,\n",
              " 4307,\n",
              " 9240,\n",
              " 683,\n",
              " 1855,\n",
              " 3921,\n",
              " 4111,\n",
              " 2602,\n",
              " 9029,\n",
              " 3905,\n",
              " 9812,\n",
              " 2077,\n",
              " 3098,\n",
              " 7491,\n",
              " 4622,\n",
              " 9419,\n",
              " 5437,\n",
              " 975,\n",
              " 9752,\n",
              " 8645,\n",
              " 6738,\n",
              " 4819,\n",
              " 6994,\n",
              " 703,\n",
              " 6732,\n",
              " 1564,\n",
              " 10682,\n",
              " 3869,\n",
              " 10888,\n",
              " 6664,\n",
              " 2126,\n",
              " 2058,\n",
              " 8279,\n",
              " 3352,\n",
              " 9389,\n",
              " 4414,\n",
              " 1307,\n",
              " 6073,\n",
              " 10551,\n",
              " 4868,\n",
              " 11585,\n",
              " 7331,\n",
              " 5190,\n",
              " 8913,\n",
              " 6163,\n",
              " 1056,\n",
              " 8996,\n",
              " 11907,\n",
              " 4770,\n",
              " 6102,\n",
              " 10960,\n",
              " 11669,\n",
              " 4398,\n",
              " 8194,\n",
              " 10916,\n",
              " 9387,\n",
              " 9109,\n",
              " 8469,\n",
              " 827,\n",
              " 10113,\n",
              " 1109,\n",
              " 8578,\n",
              " 10499,\n",
              " 1708,\n",
              " 4951,\n",
              " 7716,\n",
              " 9896,\n",
              " 2900,\n",
              " 10561,\n",
              " 2877,\n",
              " 5035,\n",
              " 4671,\n",
              " 10056,\n",
              " 8332,\n",
              " 4159,\n",
              " 11433,\n",
              " 2718,\n",
              " 8519,\n",
              " 4799,\n",
              " 8236,\n",
              " 9776,\n",
              " 10793,\n",
              " 5930,\n",
              " 9527,\n",
              " 11448,\n",
              " 5311,\n",
              " 2600,\n",
              " 7940,\n",
              " 10924,\n",
              " 707,\n",
              " 2882,\n",
              " 212,\n",
              " 25,\n",
              " 11933,\n",
              " 1100,\n",
              " 9640,\n",
              " 8887,\n",
              " 9168,\n",
              " 8776,\n",
              " 9227,\n",
              " 11572,\n",
              " 11345,\n",
              " 8579,\n",
              " 1430,\n",
              " 1471,\n",
              " 7027,\n",
              " 2280,\n",
              " 4221,\n",
              " 10348,\n",
              " 3293,\n",
              " 2917,\n",
              " 749,\n",
              " 740,\n",
              " 6250,\n",
              " 11126,\n",
              " 2414,\n",
              " 5341,\n",
              " 486,\n",
              " 3549,\n",
              " 5491,\n",
              " 3947,\n",
              " 6527,\n",
              " 8043,\n",
              " 9317,\n",
              " 8933,\n",
              " 755,\n",
              " 2169,\n",
              " 6879,\n",
              " 4195,\n",
              " 10340,\n",
              " 8947,\n",
              " 5355,\n",
              " 5612,\n",
              " 4465,\n",
              " 8548,\n",
              " 9331,\n",
              " 5112,\n",
              " 7018,\n",
              " 2920,\n",
              " 96,\n",
              " 3951,\n",
              " 2015,\n",
              " 8290,\n",
              " 6009,\n",
              " 1005,\n",
              " 3060,\n",
              " 4474,\n",
              " 2291,\n",
              " 3829,\n",
              " 1528,\n",
              " 7806,\n",
              " 8051,\n",
              " 2786,\n",
              " 3697,\n",
              " 500,\n",
              " 9830,\n",
              " 2424,\n",
              " 3558,\n",
              " 7912,\n",
              " 8423,\n",
              " 7038,\n",
              " 6368,\n",
              " 1392,\n",
              " 94,\n",
              " 9443,\n",
              " 2933,\n",
              " 4453,\n",
              " 6143,\n",
              " 1126,\n",
              " 254,\n",
              " 10842,\n",
              " 2410,\n",
              " 2398,\n",
              " 1254,\n",
              " 1256,\n",
              " 8539,\n",
              " 3570,\n",
              " 223,\n",
              " 9719,\n",
              " 2652,\n",
              " 8561,\n",
              " 8032,\n",
              " 11117,\n",
              " 11882,\n",
              " 9177,\n",
              " 10480,\n",
              " 5102,\n",
              " 891,\n",
              " 350,\n",
              " 7285,\n",
              " 7530,\n",
              " 6392,\n",
              " 10743,\n",
              " 3443,\n",
              " 10479,\n",
              " 11628,\n",
              " 10107,\n",
              " 2415,\n",
              " 5602,\n",
              " 4584,\n",
              " 2020,\n",
              " 7395,\n",
              " 4583,\n",
              " 3674,\n",
              " 4711,\n",
              " 9975,\n",
              " 2719,\n",
              " 542,\n",
              " 8858,\n",
              " 10267,\n",
              " 10907,\n",
              " 4764,\n",
              " 8986,\n",
              " 11035,\n",
              " 9847,\n",
              " 6941,\n",
              " 2847,\n",
              " 8218,\n",
              " 9114,\n",
              " 5020,\n",
              " 7069,\n",
              " 6173,\n",
              " 6685,\n",
              " 30,\n",
              " 6301,\n",
              " 8346,\n",
              " 158,\n",
              " 1394,\n",
              " 2207,\n",
              " 1779,\n",
              " 4380,\n",
              " 286,\n",
              " 3826,\n",
              " 4508,\n",
              " 6557,\n",
              " 2079,\n",
              " 2975,\n",
              " 8730,\n",
              " 10779,\n",
              " 4636,\n",
              " 2463,\n",
              " 4083,\n",
              " 9242,\n",
              " 1313,\n",
              " 11803,\n",
              " 5660,\n",
              " 7709,\n",
              " 1566,\n",
              " 3615,\n",
              " 11766,\n",
              " 7665,\n",
              " 11931,\n",
              " 5788,\n",
              " 1522,\n",
              " 7965,\n",
              " 5617,\n",
              " 3871,\n",
              " 10138,\n",
              " 5283,\n",
              " 11638,\n",
              " 8093,\n",
              " 5616,\n",
              " 7581,\n",
              " 5148,\n",
              " 5745,\n",
              " 3488,\n",
              " 7197,\n",
              " 6001,\n",
              " 9509,\n",
              " 9370,\n",
              " 5276,\n",
              " 7325,\n",
              " 3231,\n",
              " 9498,\n",
              " 11547,\n",
              " 5404,\n",
              " 7453,\n",
              " 1310,\n",
              " 11894,\n",
              " 7458,\n",
              " 9626,\n",
              " 11675,\n",
              " 1054,\n",
              " 6129,\n",
              " 3954,\n",
              " 10904,\n",
              " 7842,\n",
              " 1697,\n",
              " 6647,\n",
              " 10776,\n",
              " 8729,\n",
              " 2588,\n",
              " 4639,\n",
              " 3744,\n",
              " 4598,\n",
              " 8816,\n",
              " 2549,\n",
              " 6814,\n",
              " 4767,\n",
              " 9765,\n",
              " 11812,\n",
              " 8985,\n",
              " 2844,\n",
              " 6942,\n",
              " 6558,\n",
              " 10865,\n",
              " 10137,\n",
              " 1266,\n",
              " 11121,\n",
              " 2076,\n",
              " 5923,\n",
              " 11383,\n",
              " 29,\n",
              " 6174,\n",
              " 10392,\n",
              " 9072,\n",
              " 3872,\n",
              " 2677,\n",
              " 6903,\n",
              " 2805,\n",
              " 10993,\n",
              " 285,\n",
              " 11940,\n",
              " 6430,\n",
              " 11511,\n",
              " 4383,\n",
              " 4895,\n",
              " 8688,\n",
              " 6519,\n",
              " 9881,\n",
              " 5535,\n",
              " 11684,\n",
              " 9753,\n",
              " 6263,\n",
              " 1565,\n",
              " 4214,\n",
              " 116,\n",
              " 11928,\n",
              " 3740,\n",
              " 2972,\n",
              " 10353,\n",
              " 10231,\n",
              " 10009,\n",
              " 3868,\n",
              " 2035,\n",
              " 11767,\n",
              " 5488,\n",
              " 10103,\n",
              " 10481,\n",
              " 1437,\n",
              " 244,\n",
              " 11672,\n",
              " 7070,\n",
              " 5023,\n",
              " 11288,\n",
              " 4470,\n",
              " 7714,\n",
              " 1053,\n",
              " 1569,\n",
              " 9637,\n",
              " 10609,\n",
              " 8560,\n",
              " 11416,\n",
              " 3228,\n",
              " 1181,\n",
              " 7326,\n",
              " 6391,\n",
              " 1309,\n",
              " 4342,\n",
              " 3571,\n",
              " 6172,\n",
              " 5155,\n",
              " 6947,\n",
              " 2464,\n",
              " 8612,\n",
              " 10742,\n",
              " 10789,\n",
              " 2721,\n",
              " 2546,\n",
              " 8868,\n",
              " 2849,\n",
              " 4593,\n",
              " 4514,\n",
              " 8485,\n",
              " 11045,\n",
              " 6434,\n",
              " 8567,\n",
              " 2977,\n",
              " 5026,\n",
              " 7075,\n",
              " 11173,\n",
              " 6563,\n",
              " 416,\n",
              " 10614,\n",
              " 4721,\n",
              " 8613,\n",
              " 10660,\n",
              " 3998,\n",
              " 1951,\n",
              " 4130,\n",
              " 2802,\n",
              " 2674,\n",
              " 2209,\n",
              " 6307,\n",
              " 8177,\n",
              " 8356,\n",
              " 10405,\n",
              " 6768,\n",
              " 4515,\n",
              " 6435,\n",
              " 8484,\n",
              " 10533,\n",
              " 6562,\n",
              " 289,\n",
              " 8357,\n",
              " 3999,\n",
              " 5922,\n",
              " 4337,\n",
              " 11813,\n",
              " 5794,\n",
              " 8229,\n",
              " 7843,\n",
              " 9892,\n",
              " 11941,\n",
              " 3873,\n",
              " 10358,\n",
              " 243,\n",
              " 115,\n",
              " 10276,\n",
              " 4131,\n",
              " 6178,\n",
              " 4001,\n",
              " 2162,\n",
              " 8099,\n",
              " 10148,\n",
              " 7715,\n",
              " 10486,\n",
              " 3105,\n",
              " 2418,\n",
              " 4259,\n",
              " 6306,\n",
              " 11301,\n",
              " 1184,\n",
              " 3233,\n",
              " 5282,\n",
              " 371,\n",
              " 11429,\n",
              " 5410,\n",
              " 1568,\n",
              " 11557,\n",
              " 161,\n",
              " 3489,\n",
              " 2208,\n",
              " 5538,\n",
              " 8439,\n",
              " 9636,\n",
              " 11685,\n",
              " 8951,\n",
              " 2592,\n",
              " 10139,\n",
              " 8987,\n",
              " 3314,\n",
              " 10906,\n",
              " 8859,\n",
              " 6812,\n",
              " 4765,\n",
              " 11172,\n",
              " 5361,\n",
              " 671,\n",
              " 6940,\n",
              " 4637,\n",
              " 2846,\n",
              " 799,\n",
              " 9115,\n",
              " 7068,\n",
              " 7793,\n",
              " 5021,\n",
              " 7408,\n",
              " 927,\n",
              " 1267,\n",
              " 6684,\n",
              " 7024,\n",
              " 11510,\n",
              " 8219,\n",
              " 6256,\n",
              " 4125,\n",
              " 3442,\n",
              " 31,\n",
              " 9463,\n",
              " 6300,\n",
              " 1057,\n",
              " 159,\n",
              " 8731,\n",
              " 8475,\n",
              " 6428,\n",
              " 2334,\n",
              " 10650,\n",
              " 8603,\n",
              " 9125,\n",
              " 2462,\n",
              " 10778,\n",
              " 11290,\n",
              " 10264,\n",
              " 9335,\n",
              " 1695,\n",
              " 9755,\n",
              " 4899,\n",
              " 801,\n",
              " 7708,\n",
              " 1567,\n",
              " 11930,\n",
              " 7152,\n",
              " 3742,\n",
              " 5872,\n",
              " 11382,\n",
              " 7921,\n",
              " 1906,\n",
              " 673,\n",
              " 2720,\n",
              " 7964,\n",
              " 6128,\n",
              " 4643,\n",
              " 6690,\n",
              " 11044,\n",
              " 5105,\n",
              " 3486,\n",
              " 5533,\n",
              " 1139,\n",
              " 11418,\n",
              " 9371,\n",
              " 1650,\n",
              " 7324,\n",
              " 5277,\n",
              " 1183,\n",
              " 11546,\n",
              " 7452,\n",
              " 5405,\n",
              " 3186,\n",
              " 11674,\n",
              " 9627,\n",
              " 7580,\n",
              " 929,\n",
              " 2976,\n",
              " 8997,\n",
              " 9243,\n",
              " 7000,\n",
              " 8095,\n",
              " 246,\n",
              " 6389,\n",
              " 2072,\n",
              " 2167,\n",
              " 4212,\n",
              " 4123,\n",
              " 8306,\n",
              " 8182,\n",
              " 8054,\n",
              " 6298,\n",
              " 4251,\n",
              " 10396,\n",
              " 8349,\n",
              " 2328,\n",
              " 6426,\n",
              " 1909,\n",
              " 8477,\n",
              " 2456,\n",
              " 409,\n",
              " 4507,\n",
              " 8605,\n",
              " 537,\n",
              " 3993,\n",
              " 10012,\n",
              " 6645,\n",
              " 7963,\n",
              " 5402,\n",
              " 9500,\n",
              " 11549,\n",
              " 10739,\n",
              " 7579,\n",
              " 9628,\n",
              " 11677,\n",
              " 8690,\n",
              " 5658,\n",
              " 2423,\n",
              " 9756,\n",
              " 374,\n",
              " 1688,\n",
              " 3737,\n",
              " 5786,\n",
              " 7835,\n",
              " 9884,\n",
              " 8562,\n",
              " 2295,\n",
              " 3865,\n",
              " 5914,\n",
              " 6682,\n",
              " 10780,\n",
              " 8733,\n",
              " 2712,\n",
              " 9501,\n",
              " 3480,\n",
              " 1433,\n",
              " 7578,\n",
              " 9457,\n",
              " 11676,\n",
              " 3608,\n",
              " 11504,\n",
              " 7706,\n",
              " 5659,\n",
              " 3736,\n",
              " 5239,\n",
              " 7286,\n",
              " 5787,\n",
              " 11932,\n",
              " 3864,\n",
              " 1817,\n",
              " 3188,\n",
              " 3992,\n",
              " 1945,\n",
              " 6043,\n",
              " 5403,\n",
              " 7414,\n",
              " 1305,\n",
              " 921,\n",
              " 5879,\n",
              " 3828,\n",
              " 8861,\n",
              " 9969,\n",
              " 3700,\n",
              " 4891,\n",
              " 11888,\n",
              " 3572,\n",
              " 2968,\n",
              " 5019,\n",
              " 11632,\n",
              " 11760,\n",
              " 9117,\n",
              " 3096,\n",
              " 7542,\n",
              " 3444,\n",
              " 5147,\n",
              " 11292,\n",
              " 1177,\n",
              " 5275,\n",
              " 4596,\n",
              " 2551,\n",
              " 6046,\n",
              " 11763,\n",
              " 919,\n",
              " 11282,\n",
              " 9235,\n",
              " 1047,\n",
              " 9363,\n",
              " 7316,\n",
              " 5269,\n",
              " 9714,\n",
              " 11538,\n",
              " 7444,\n",
              " 3447,\n",
              " 3350,\n",
              " 11635,\n",
              " 9586,\n",
              " 3478,\n",
              " 11794,\n",
              " 3319,\n",
              " 7413,\n",
              " 5653,\n",
              " 3191,\n",
              " 1559,\n",
              " 2966,\n",
              " 7060,\n",
              " 1176,\n",
              " 11154,\n",
              " 1654,\n",
              " 8467,\n",
              " 6420,\n",
              " 4373,\n",
              " 7797,\n",
              " 5748,\n",
              " 4501,\n",
              " 2454,\n",
              " 407,\n",
              " 1526,\n",
              " 2582,\n",
              " 7669,\n",
              " 10898,\n",
              " 8851,\n",
              " 6804,\n",
              " 4757,\n",
              " 2710,\n",
              " 663,\n",
              " 6932,\n",
              " 4885,\n",
              " 791,\n",
              " 11922,\n",
              " 9875,\n",
              " 7828,\n",
              " 5781,\n",
              " 10653,\n",
              " 536,\n",
              " 4634,\n",
              " 6683,\n",
              " 8732,\n",
              " 8946,\n",
              " 630,\n",
              " 6773,\n",
              " 792,\n",
              " 4724,\n",
              " 6939,\n",
              " 8988,\n",
              " 8818,\n",
              " 5018,\n",
              " 7067,\n",
              " 9116,\n",
              " 11165,\n",
              " 1048,\n",
              " 3097,\n",
              " 9244,\n",
              " 11293,\n",
              " 4852,\n",
              " 6901,\n",
              " 2457,\n",
              " 4122,\n",
              " 3734,\n",
              " 1687,\n",
              " 5236,\n",
              " 10131,\n",
              " 1014,\n",
              " 3990,\n",
              " 1943,\n",
              " 24,\n",
              " 7157,\n",
              " 5108,\n",
              " 408,\n",
              " 2935,\n",
              " 10269,\n",
              " 886,\n",
              " 6299,\n",
              " 4980,\n",
              " 9074,\n",
              " 2807,\n",
              " 758,\n",
              " 10525,\n",
              " 10141,\n",
              " 2075,\n",
              " 8222,\n",
              " 10143,\n",
              " 7799,\n",
              " 28,\n",
              " 3701,\n",
              " 4126,\n",
              " 6175,\n",
              " 8344,\n",
              " 156,\n",
              " 2205,\n",
              " 4254,\n",
              " 6303,\n",
              " 8472,\n",
              " 284,\n",
              " 11889,\n",
              " 4382,\n",
              " 8600,\n",
              " 3573,\n",
              " 1524,\n",
              " 4510,\n",
              " 6559,\n",
              " 8728,\n",
              " 10777,\n",
              " 8216,\n",
              " 1947,\n",
              " 9329,\n",
              " 6041,\n",
              " 2036,\n",
              " 11422,\n",
              " 5401,\n",
              " 10224,\n",
              " 11550,\n",
              " 7576,\n",
              " 5529,\n",
              " 3482,\n",
              " 9631,\n",
              " 5657,\n",
              " 1563,\n",
              " 8055,\n",
              " 9759,\n",
              " 7832,\n",
              " 3738,\n",
              " 10096,\n",
              " 11934,\n",
              " 7960,\n",
              " 5913,\n",
              " 5878,\n",
              " 1819,\n",
              " 11761,\n",
              " 2589,\n",
              " 4638,\n",
              " 6687,\n",
              " 9496,\n",
              " 11545,\n",
              " 1308,\n",
              " 8098,\n",
              " 5406,\n",
              " 11673,\n",
              " 5534,\n",
              " 7583,\n",
              " 5238,\n",
              " 3061,\n",
              " 9200,\n",
              " 3613,\n",
              " 9880,\n",
              " 1692,\n",
              " 3741,\n",
              " 5790,\n",
              " 7031,\n",
              " 10008,\n",
              " 4982,\n",
              " 884,\n",
              " 10136,\n",
              " 7287,\n",
              " 5278,\n",
              " 3229,\n",
              " 924,\n",
              " 9712,\n",
              " 10905,\n",
              " 668,\n",
              " 8984,\n",
              " 11033,\n",
              " 2845,\n",
              " 4894,\n",
              " 7543,\n",
              " 11161,\n",
              " 3445,\n",
              " 1180,\n",
              " 5022,\n",
              " 7415,\n",
              " 5366,\n",
              " 11289,\n",
              " 1052,\n",
              " 5150,\n",
              " 1268,\n",
              " 9368,\n",
              " 11417,\n",
              " 7320,\n",
              " 9247,\n",
              " 8183,\n",
              " 9758,\n",
              " 9118,\n",
              " 11167,\n",
              " 5144,\n",
              " 9246,\n",
              " 11295,\n",
              " 6902,\n",
              " 3227,\n",
              " 757,\n",
              " 2804,\n",
              " 5400,\n",
              " 10992,\n",
              " 1306,\n",
              " 3355,\n",
              " 11551,\n",
              " 4727,\n",
              " 7577,\n",
              " 2676,\n",
              " 3483,\n",
              " 9630,\n",
              " 11679,\n",
              " ...]"
            ]
          },
          "metadata": {
            "tags": []
          },
          "execution_count": 151
        }
      ]
    },
    {
      "cell_type": "code",
      "metadata": {
        "id": "NIhmOn3mt_HU",
        "colab_type": "code",
        "colab": {
          "base_uri": "https://localhost:8080/",
          "height": 223
        },
        "outputId": "8d5b7425-0929-4a8e-b8a1-73ac1b7b7a81"
      },
      "source": [
        "dfm['user_id'].value_counts()  # 8823"
      ],
      "execution_count": 152,
      "outputs": [
        {
          "output_type": "execute_result",
          "data": {
            "text/plain": [
              "3623     606\n",
              "906      600\n",
              "1811     593\n",
              "7590     590\n",
              "8068     585\n",
              "        ... \n",
              "6763       1\n",
              "3773       1\n",
              "5822       1\n",
              "10040      1\n",
              "2047       1\n",
              "Name: user_id, Length: 8823, dtype: int64"
            ]
          },
          "metadata": {
            "tags": []
          },
          "execution_count": 152
        }
      ]
    },
    {
      "cell_type": "code",
      "metadata": {
        "id": "L7IZLVXbq2z0",
        "colab_type": "code",
        "colab": {
          "base_uri": "https://localhost:8080/",
          "height": 223
        },
        "outputId": "f2c8e490-afd4-4490-8298-406a98a7a4d8"
      },
      "source": [
        "rare_users = pd.Series(rare_users)\n",
        "rare_users.value_counts()"
      ],
      "execution_count": 43,
      "outputs": [
        {
          "output_type": "execute_result",
          "data": {
            "text/plain": [
              "2047    1\n",
              "3515    1\n",
              "1442    1\n",
              "3491    1\n",
              "9638    1\n",
              "       ..\n",
              "8977    1\n",
              "789     1\n",
              "8985    1\n",
              "2844    1\n",
              "6147    1\n",
              "Length: 6575, dtype: int64"
            ]
          },
          "metadata": {
            "tags": []
          },
          "execution_count": 43
        }
      ]
    },
    {
      "cell_type": "code",
      "metadata": {
        "id": "_hxykBiIq2z1",
        "colab_type": "code",
        "colab": {}
      },
      "source": [
        "dfme = dfm.copy()"
      ],
      "execution_count": 150,
      "outputs": []
    },
    {
      "cell_type": "code",
      "metadata": {
        "id": "-jr2pDeXq2z3",
        "colab_type": "code",
        "colab": {
          "base_uri": "https://localhost:8080/",
          "height": 34
        },
        "outputId": "a08601f0-7bce-4e8f-c7f1-6ddea85f13e3"
      },
      "source": [
        "dfm['user_id'].nunique()"
      ],
      "execution_count": 112,
      "outputs": [
        {
          "output_type": "execute_result",
          "data": {
            "text/plain": [
              "8823"
            ]
          },
          "metadata": {
            "tags": []
          },
          "execution_count": 112
        }
      ]
    },
    {
      "cell_type": "code",
      "metadata": {
        "id": "mk2qhmkws6ij",
        "colab_type": "code",
        "colab": {}
      },
      "source": [
        "def bool_rare(item):\n",
        "  if item in rare_users:\n",
        "    return False\n",
        "  else:\n",
        "    return True"
      ],
      "execution_count": 40,
      "outputs": []
    },
    {
      "cell_type": "code",
      "metadata": {
        "id": "WG5JNXEoq2z5",
        "colab_type": "code",
        "colab": {}
      },
      "source": [
        "rows_to_drop = dfm['user_id'].apply(bool_rare)"
      ],
      "execution_count": 41,
      "outputs": []
    },
    {
      "cell_type": "code",
      "metadata": {
        "id": "sOqU5mBwtioU",
        "colab_type": "code",
        "colab": {
          "base_uri": "https://localhost:8080/",
          "height": 240
        },
        "outputId": "4deb9a49-cc97-4b05-abc0-28a238ada8d6"
      },
      "source": [
        "print(type(rows_to_drop))\n",
        "rows_to_drop"
      ],
      "execution_count": 153,
      "outputs": [
        {
          "output_type": "stream",
          "text": [
            "<class 'pandas.core.series.Series'>\n"
          ],
          "name": "stdout"
        },
        {
          "output_type": "execute_result",
          "data": {
            "text/plain": [
              "0         False\n",
              "1          True\n",
              "2          True\n",
              "3          True\n",
              "4          True\n",
              "          ...  \n",
              "207912    False\n",
              "207913    False\n",
              "207914    False\n",
              "207915    False\n",
              "207916    False\n",
              "Name: user_id, Length: 207917, dtype: bool"
            ]
          },
          "metadata": {
            "tags": []
          },
          "execution_count": 153
        }
      ]
    },
    {
      "cell_type": "code",
      "metadata": {
        "id": "7cHXJMo-uRML",
        "colab_type": "code",
        "colab": {}
      },
      "source": [
        "dfm = dfm.loc[rows_to_drop]"
      ],
      "execution_count": 154,
      "outputs": []
    },
    {
      "cell_type": "code",
      "metadata": {
        "id": "4nsVORQcumnx",
        "colab_type": "code",
        "colab": {
          "base_uri": "https://localhost:8080/",
          "height": 308
        },
        "outputId": "29f39fd7-89c4-4c93-98d4-ece7c066362c"
      },
      "source": [
        "dfm.head()"
      ],
      "execution_count": 53,
      "outputs": [
        {
          "output_type": "execute_result",
          "data": {
            "text/html": [
              "<div>\n",
              "<style scoped>\n",
              "    .dataframe tbody tr th:only-of-type {\n",
              "        vertical-align: middle;\n",
              "    }\n",
              "\n",
              "    .dataframe tbody tr th {\n",
              "        vertical-align: top;\n",
              "    }\n",
              "\n",
              "    .dataframe thead th {\n",
              "        text-align: right;\n",
              "    }\n",
              "</style>\n",
              "<table border=\"1\" class=\"dataframe\">\n",
              "  <thead>\n",
              "    <tr style=\"text-align: right;\">\n",
              "      <th></th>\n",
              "      <th>object_id</th>\n",
              "      <th>creation_time</th>\n",
              "      <th>name</th>\n",
              "      <th>email</th>\n",
              "      <th>creation_source</th>\n",
              "      <th>last_session_creation_time</th>\n",
              "      <th>opted_in_to_mailing_list</th>\n",
              "      <th>enabled_for_marketing_drip</th>\n",
              "      <th>org_id</th>\n",
              "      <th>invited_by_user_id</th>\n",
              "      <th>user_id</th>\n",
              "      <th>visited</th>\n",
              "      <th>creation_timestamp</th>\n",
              "      <th>login_time</th>\n",
              "      <th>login_timestamp</th>\n",
              "    </tr>\n",
              "  </thead>\n",
              "  <tbody>\n",
              "    <tr>\n",
              "      <th>1</th>\n",
              "      <td>2</td>\n",
              "      <td>2013-11-15 03:45:04</td>\n",
              "      <td>Poole Matthew</td>\n",
              "      <td>MatthewPoole@gustr.com</td>\n",
              "      <td>ORG_INVITE</td>\n",
              "      <td>1.396238e+09</td>\n",
              "      <td>0</td>\n",
              "      <td>0</td>\n",
              "      <td>1</td>\n",
              "      <td>316.0</td>\n",
              "      <td>2</td>\n",
              "      <td>1</td>\n",
              "      <td>1.384487e+09</td>\n",
              "      <td>2013-11-15 03:45:04</td>\n",
              "      <td>1.384487e+09</td>\n",
              "    </tr>\n",
              "    <tr>\n",
              "      <th>2</th>\n",
              "      <td>2</td>\n",
              "      <td>2013-11-15 03:45:04</td>\n",
              "      <td>Poole Matthew</td>\n",
              "      <td>MatthewPoole@gustr.com</td>\n",
              "      <td>ORG_INVITE</td>\n",
              "      <td>1.396238e+09</td>\n",
              "      <td>0</td>\n",
              "      <td>0</td>\n",
              "      <td>1</td>\n",
              "      <td>316.0</td>\n",
              "      <td>2</td>\n",
              "      <td>1</td>\n",
              "      <td>1.384487e+09</td>\n",
              "      <td>2013-11-29 03:45:04</td>\n",
              "      <td>1.385697e+09</td>\n",
              "    </tr>\n",
              "    <tr>\n",
              "      <th>3</th>\n",
              "      <td>2</td>\n",
              "      <td>2013-11-15 03:45:04</td>\n",
              "      <td>Poole Matthew</td>\n",
              "      <td>MatthewPoole@gustr.com</td>\n",
              "      <td>ORG_INVITE</td>\n",
              "      <td>1.396238e+09</td>\n",
              "      <td>0</td>\n",
              "      <td>0</td>\n",
              "      <td>1</td>\n",
              "      <td>316.0</td>\n",
              "      <td>2</td>\n",
              "      <td>1</td>\n",
              "      <td>1.384487e+09</td>\n",
              "      <td>2013-12-09 03:45:04</td>\n",
              "      <td>1.386561e+09</td>\n",
              "    </tr>\n",
              "    <tr>\n",
              "      <th>4</th>\n",
              "      <td>2</td>\n",
              "      <td>2013-11-15 03:45:04</td>\n",
              "      <td>Poole Matthew</td>\n",
              "      <td>MatthewPoole@gustr.com</td>\n",
              "      <td>ORG_INVITE</td>\n",
              "      <td>1.396238e+09</td>\n",
              "      <td>0</td>\n",
              "      <td>0</td>\n",
              "      <td>1</td>\n",
              "      <td>316.0</td>\n",
              "      <td>2</td>\n",
              "      <td>1</td>\n",
              "      <td>1.384487e+09</td>\n",
              "      <td>2013-12-25 03:45:04</td>\n",
              "      <td>1.387943e+09</td>\n",
              "    </tr>\n",
              "    <tr>\n",
              "      <th>5</th>\n",
              "      <td>2</td>\n",
              "      <td>2013-11-15 03:45:04</td>\n",
              "      <td>Poole Matthew</td>\n",
              "      <td>MatthewPoole@gustr.com</td>\n",
              "      <td>ORG_INVITE</td>\n",
              "      <td>1.396238e+09</td>\n",
              "      <td>0</td>\n",
              "      <td>0</td>\n",
              "      <td>1</td>\n",
              "      <td>316.0</td>\n",
              "      <td>2</td>\n",
              "      <td>1</td>\n",
              "      <td>1.384487e+09</td>\n",
              "      <td>2013-12-31 03:45:04</td>\n",
              "      <td>1.388462e+09</td>\n",
              "    </tr>\n",
              "  </tbody>\n",
              "</table>\n",
              "</div>"
            ],
            "text/plain": [
              "   object_id        creation_time  ...           login_time login_timestamp\n",
              "1          2  2013-11-15 03:45:04  ...  2013-11-15 03:45:04    1.384487e+09\n",
              "2          2  2013-11-15 03:45:04  ...  2013-11-29 03:45:04    1.385697e+09\n",
              "3          2  2013-11-15 03:45:04  ...  2013-12-09 03:45:04    1.386561e+09\n",
              "4          2  2013-11-15 03:45:04  ...  2013-12-25 03:45:04    1.387943e+09\n",
              "5          2  2013-11-15 03:45:04  ...  2013-12-31 03:45:04    1.388462e+09\n",
              "\n",
              "[5 rows x 15 columns]"
            ]
          },
          "metadata": {
            "tags": []
          },
          "execution_count": 53
        }
      ]
    },
    {
      "cell_type": "code",
      "metadata": {
        "id": "a4AaEDmhv-_w",
        "colab_type": "code",
        "colab": {
          "base_uri": "https://localhost:8080/",
          "height": 103
        },
        "outputId": "390e9d49-f161-4780-d8f1-db19e1dc612f"
      },
      "source": [
        "dfm.columns, dfm.shape"
      ],
      "execution_count": 155,
      "outputs": [
        {
          "output_type": "execute_result",
          "data": {
            "text/plain": [
              "(Index(['object_id', 'creation_time', 'name', 'email', 'creation_source',\n",
              "        'last_session_creation_time', 'opted_in_to_mailing_list',\n",
              "        'enabled_for_marketing_drip', 'org_id', 'invited_by_user_id', 'user_id',\n",
              "        'visited', 'creation_timestamp', 'login_time', 'login_timestamp'],\n",
              "       dtype='object'), (201002, 15))"
            ]
          },
          "metadata": {
            "tags": []
          },
          "execution_count": 155
        }
      ]
    },
    {
      "cell_type": "code",
      "metadata": {
        "id": "HKEINPwswfp4",
        "colab_type": "code",
        "colab": {
          "base_uri": "https://localhost:8080/",
          "height": 34
        },
        "outputId": "585977e8-80c9-4d25-ad46-b3c1242740a1"
      },
      "source": [
        "dfm.iloc[1, 14]"
      ],
      "execution_count": 61,
      "outputs": [
        {
          "output_type": "execute_result",
          "data": {
            "text/plain": [
              "1385696704.0"
            ]
          },
          "metadata": {
            "tags": []
          },
          "execution_count": 61
        }
      ]
    },
    {
      "cell_type": "markdown",
      "metadata": {
        "id": "LrdzXXKTuvZ-",
        "colab_type": "text"
      },
      "source": [
        "Now we have dropped the users who have logged in less than 3 times."
      ]
    },
    {
      "cell_type": "code",
      "metadata": {
        "id": "Uu7UyqM4vdlZ",
        "colab_type": "code",
        "colab": {}
      },
      "source": [
        "dfm = dfm.sort_values(by=['user_id','login_timestamp'])"
      ],
      "execution_count": 156,
      "outputs": []
    },
    {
      "cell_type": "code",
      "metadata": {
        "id": "aRmj_oWHw3co",
        "colab_type": "code",
        "colab": {}
      },
      "source": [
        "adopted = {}"
      ],
      "execution_count": 117,
      "outputs": []
    },
    {
      "cell_type": "code",
      "metadata": {
        "id": "yAWJ4VIK0e14",
        "colab_type": "code",
        "colab": {
          "base_uri": "https://localhost:8080/",
          "height": 34
        },
        "outputId": "b7ceab01-b4a3-43cb-c0ff-227973e58c44"
      },
      "source": [
        "dfm.shape"
      ],
      "execution_count": 118,
      "outputs": [
        {
          "output_type": "execute_result",
          "data": {
            "text/plain": [
              "(201002, 15)"
            ]
          },
          "metadata": {
            "tags": []
          },
          "execution_count": 118
        }
      ]
    },
    {
      "cell_type": "code",
      "metadata": {
        "id": "mJgzsVAXv9Sz",
        "colab_type": "code",
        "colab": {}
      },
      "source": [
        "for i in range(dfm.shape[0] - 2):\n",
        "  uid = dfm.iloc[i, 10]    # getting the user ID value in row 'i'\n",
        "  time1 = dfm.iloc[i, 14]\n",
        "  if (dfm.iloc[i + 2, 10]) == uid:\n",
        "    time2 = dfm.iloc[i + 1, 14]\n",
        "    time3 = dfm.iloc[i + 2, 14]\n",
        "    if ((time3 - time1) < 604800) and ((time3 - time1) > 86400):\n",
        "      adopted[uid] = 1\n",
        "\n",
        "# 86400 seconds in a day\n",
        "# 604800 seconds in a week"
      ],
      "execution_count": 119,
      "outputs": []
    },
    {
      "cell_type": "code",
      "metadata": {
        "id": "2uPahNjpC0_0",
        "colab_type": "code",
        "colab": {}
      },
      "source": [
        "dfmc = dfm.copy()"
      ],
      "execution_count": 121,
      "outputs": []
    },
    {
      "cell_type": "code",
      "metadata": {
        "id": "Y4EFEgmV3-jq",
        "colab_type": "code",
        "colab": {
          "base_uri": "https://localhost:8080/",
          "height": 448
        },
        "outputId": "2b845c5e-6e31-41b1-de73-c7439fad2288"
      },
      "source": [
        "dfa = pd.DataFrame({'adopted': list(adopted.values())}, index=list(adopted.keys()))\n",
        "dfa"
      ],
      "execution_count": 157,
      "outputs": [
        {
          "output_type": "execute_result",
          "data": {
            "text/html": [
              "<div>\n",
              "<style scoped>\n",
              "    .dataframe tbody tr th:only-of-type {\n",
              "        vertical-align: middle;\n",
              "    }\n",
              "\n",
              "    .dataframe tbody tr th {\n",
              "        vertical-align: top;\n",
              "    }\n",
              "\n",
              "    .dataframe thead th {\n",
              "        text-align: right;\n",
              "    }\n",
              "</style>\n",
              "<table border=\"1\" class=\"dataframe\">\n",
              "  <thead>\n",
              "    <tr style=\"text-align: right;\">\n",
              "      <th></th>\n",
              "      <th>adopted</th>\n",
              "    </tr>\n",
              "    <tr>\n",
              "      <th>user_id</th>\n",
              "      <th></th>\n",
              "    </tr>\n",
              "  </thead>\n",
              "  <tbody>\n",
              "    <tr>\n",
              "      <th>2</th>\n",
              "      <td>1</td>\n",
              "    </tr>\n",
              "    <tr>\n",
              "      <th>10</th>\n",
              "      <td>1</td>\n",
              "    </tr>\n",
              "    <tr>\n",
              "      <th>20</th>\n",
              "      <td>1</td>\n",
              "    </tr>\n",
              "    <tr>\n",
              "      <th>33</th>\n",
              "      <td>1</td>\n",
              "    </tr>\n",
              "    <tr>\n",
              "      <th>42</th>\n",
              "      <td>1</td>\n",
              "    </tr>\n",
              "    <tr>\n",
              "      <th>...</th>\n",
              "      <td>...</td>\n",
              "    </tr>\n",
              "    <tr>\n",
              "      <th>11965</th>\n",
              "      <td>1</td>\n",
              "    </tr>\n",
              "    <tr>\n",
              "      <th>11967</th>\n",
              "      <td>1</td>\n",
              "    </tr>\n",
              "    <tr>\n",
              "      <th>11969</th>\n",
              "      <td>1</td>\n",
              "    </tr>\n",
              "    <tr>\n",
              "      <th>11975</th>\n",
              "      <td>1</td>\n",
              "    </tr>\n",
              "    <tr>\n",
              "      <th>11988</th>\n",
              "      <td>1</td>\n",
              "    </tr>\n",
              "  </tbody>\n",
              "</table>\n",
              "<p>1602 rows × 1 columns</p>\n",
              "</div>"
            ],
            "text/plain": [
              "         adopted\n",
              "user_id         \n",
              "2              1\n",
              "10             1\n",
              "20             1\n",
              "33             1\n",
              "42             1\n",
              "...          ...\n",
              "11965          1\n",
              "11967          1\n",
              "11969          1\n",
              "11975          1\n",
              "11988          1\n",
              "\n",
              "[1602 rows x 1 columns]"
            ]
          },
          "metadata": {
            "tags": []
          },
          "execution_count": 157
        }
      ]
    },
    {
      "cell_type": "code",
      "metadata": {
        "id": "4PIfK56YMVYm",
        "colab_type": "code",
        "colab": {
          "base_uri": "https://localhost:8080/",
          "height": 448
        },
        "outputId": "a2f8de77-f05c-4419-d27b-b889c8125094"
      },
      "source": [
        "dfa.index.name = 'user_id'\n",
        "dfa"
      ],
      "execution_count": 141,
      "outputs": [
        {
          "output_type": "execute_result",
          "data": {
            "text/html": [
              "<div>\n",
              "<style scoped>\n",
              "    .dataframe tbody tr th:only-of-type {\n",
              "        vertical-align: middle;\n",
              "    }\n",
              "\n",
              "    .dataframe tbody tr th {\n",
              "        vertical-align: top;\n",
              "    }\n",
              "\n",
              "    .dataframe thead th {\n",
              "        text-align: right;\n",
              "    }\n",
              "</style>\n",
              "<table border=\"1\" class=\"dataframe\">\n",
              "  <thead>\n",
              "    <tr style=\"text-align: right;\">\n",
              "      <th></th>\n",
              "      <th>adopted</th>\n",
              "    </tr>\n",
              "    <tr>\n",
              "      <th>user_id</th>\n",
              "      <th></th>\n",
              "    </tr>\n",
              "  </thead>\n",
              "  <tbody>\n",
              "    <tr>\n",
              "      <th>2</th>\n",
              "      <td>1</td>\n",
              "    </tr>\n",
              "    <tr>\n",
              "      <th>10</th>\n",
              "      <td>1</td>\n",
              "    </tr>\n",
              "    <tr>\n",
              "      <th>20</th>\n",
              "      <td>1</td>\n",
              "    </tr>\n",
              "    <tr>\n",
              "      <th>33</th>\n",
              "      <td>1</td>\n",
              "    </tr>\n",
              "    <tr>\n",
              "      <th>42</th>\n",
              "      <td>1</td>\n",
              "    </tr>\n",
              "    <tr>\n",
              "      <th>...</th>\n",
              "      <td>...</td>\n",
              "    </tr>\n",
              "    <tr>\n",
              "      <th>11965</th>\n",
              "      <td>1</td>\n",
              "    </tr>\n",
              "    <tr>\n",
              "      <th>11967</th>\n",
              "      <td>1</td>\n",
              "    </tr>\n",
              "    <tr>\n",
              "      <th>11969</th>\n",
              "      <td>1</td>\n",
              "    </tr>\n",
              "    <tr>\n",
              "      <th>11975</th>\n",
              "      <td>1</td>\n",
              "    </tr>\n",
              "    <tr>\n",
              "      <th>11988</th>\n",
              "      <td>1</td>\n",
              "    </tr>\n",
              "  </tbody>\n",
              "</table>\n",
              "<p>1602 rows × 1 columns</p>\n",
              "</div>"
            ],
            "text/plain": [
              "         adopted\n",
              "user_id         \n",
              "2              1\n",
              "10             1\n",
              "20             1\n",
              "33             1\n",
              "42             1\n",
              "...          ...\n",
              "11965          1\n",
              "11967          1\n",
              "11969          1\n",
              "11975          1\n",
              "11988          1\n",
              "\n",
              "[1602 rows x 1 columns]"
            ]
          },
          "metadata": {
            "tags": []
          },
          "execution_count": 141
        }
      ]
    },
    {
      "cell_type": "code",
      "metadata": {
        "id": "-9ZDeWI7BsLe",
        "colab_type": "code",
        "colab": {}
      },
      "source": [
        "dfm = pd.merge(dfm, dfa, on = 'user_id')"
      ],
      "execution_count": 122,
      "outputs": []
    },
    {
      "cell_type": "code",
      "metadata": {
        "id": "p8h2vDBVC-5i",
        "colab_type": "code",
        "colab": {
          "base_uri": "https://localhost:8080/",
          "height": 260
        },
        "outputId": "14c93f86-a41d-43fc-f5e2-ac30db7d2cbc"
      },
      "source": [
        "dfm.tail(4)"
      ],
      "execution_count": 129,
      "outputs": [
        {
          "output_type": "execute_result",
          "data": {
            "text/html": [
              "<div>\n",
              "<style scoped>\n",
              "    .dataframe tbody tr th:only-of-type {\n",
              "        vertical-align: middle;\n",
              "    }\n",
              "\n",
              "    .dataframe tbody tr th {\n",
              "        vertical-align: top;\n",
              "    }\n",
              "\n",
              "    .dataframe thead th {\n",
              "        text-align: right;\n",
              "    }\n",
              "</style>\n",
              "<table border=\"1\" class=\"dataframe\">\n",
              "  <thead>\n",
              "    <tr style=\"text-align: right;\">\n",
              "      <th></th>\n",
              "      <th>object_id</th>\n",
              "      <th>creation_time</th>\n",
              "      <th>name</th>\n",
              "      <th>email</th>\n",
              "      <th>creation_source</th>\n",
              "      <th>last_session_creation_time</th>\n",
              "      <th>opted_in_to_mailing_list</th>\n",
              "      <th>enabled_for_marketing_drip</th>\n",
              "      <th>org_id</th>\n",
              "      <th>invited_by_user_id</th>\n",
              "      <th>user_id</th>\n",
              "      <th>visited</th>\n",
              "      <th>creation_timestamp</th>\n",
              "      <th>login_time</th>\n",
              "      <th>login_timestamp</th>\n",
              "      <th>adopted</th>\n",
              "    </tr>\n",
              "  </thead>\n",
              "  <tbody>\n",
              "    <tr>\n",
              "      <th>197914</th>\n",
              "      <td>11988</td>\n",
              "      <td>2014-03-15 11:04:47</td>\n",
              "      <td>Minick John</td>\n",
              "      <td>JohnFMinick@yahoo.com</td>\n",
              "      <td>PERSONAL_PROJECTS</td>\n",
              "      <td>1.401621e+09</td>\n",
              "      <td>0</td>\n",
              "      <td>0</td>\n",
              "      <td>114</td>\n",
              "      <td>NaN</td>\n",
              "      <td>11988</td>\n",
              "      <td>1</td>\n",
              "      <td>1.394881e+09</td>\n",
              "      <td>2014-05-24 11:04:47</td>\n",
              "      <td>1.400929e+09</td>\n",
              "      <td>1</td>\n",
              "    </tr>\n",
              "    <tr>\n",
              "      <th>197915</th>\n",
              "      <td>11988</td>\n",
              "      <td>2014-03-15 11:04:47</td>\n",
              "      <td>Minick John</td>\n",
              "      <td>JohnFMinick@yahoo.com</td>\n",
              "      <td>PERSONAL_PROJECTS</td>\n",
              "      <td>1.401621e+09</td>\n",
              "      <td>0</td>\n",
              "      <td>0</td>\n",
              "      <td>114</td>\n",
              "      <td>NaN</td>\n",
              "      <td>11988</td>\n",
              "      <td>1</td>\n",
              "      <td>1.394881e+09</td>\n",
              "      <td>2014-05-26 11:04:47</td>\n",
              "      <td>1.401102e+09</td>\n",
              "      <td>1</td>\n",
              "    </tr>\n",
              "    <tr>\n",
              "      <th>197916</th>\n",
              "      <td>11988</td>\n",
              "      <td>2014-03-15 11:04:47</td>\n",
              "      <td>Minick John</td>\n",
              "      <td>JohnFMinick@yahoo.com</td>\n",
              "      <td>PERSONAL_PROJECTS</td>\n",
              "      <td>1.401621e+09</td>\n",
              "      <td>0</td>\n",
              "      <td>0</td>\n",
              "      <td>114</td>\n",
              "      <td>NaN</td>\n",
              "      <td>11988</td>\n",
              "      <td>1</td>\n",
              "      <td>1.394881e+09</td>\n",
              "      <td>2014-05-27 11:04:47</td>\n",
              "      <td>1.401189e+09</td>\n",
              "      <td>1</td>\n",
              "    </tr>\n",
              "    <tr>\n",
              "      <th>197917</th>\n",
              "      <td>11988</td>\n",
              "      <td>2014-03-15 11:04:47</td>\n",
              "      <td>Minick John</td>\n",
              "      <td>JohnFMinick@yahoo.com</td>\n",
              "      <td>PERSONAL_PROJECTS</td>\n",
              "      <td>1.401621e+09</td>\n",
              "      <td>0</td>\n",
              "      <td>0</td>\n",
              "      <td>114</td>\n",
              "      <td>NaN</td>\n",
              "      <td>11988</td>\n",
              "      <td>1</td>\n",
              "      <td>1.394881e+09</td>\n",
              "      <td>2014-06-01 11:04:47</td>\n",
              "      <td>1.401621e+09</td>\n",
              "      <td>1</td>\n",
              "    </tr>\n",
              "  </tbody>\n",
              "</table>\n",
              "</div>"
            ],
            "text/plain": [
              "        object_id        creation_time  ... login_timestamp adopted\n",
              "197914      11988  2014-03-15 11:04:47  ...    1.400929e+09       1\n",
              "197915      11988  2014-03-15 11:04:47  ...    1.401102e+09       1\n",
              "197916      11988  2014-03-15 11:04:47  ...    1.401189e+09       1\n",
              "197917      11988  2014-03-15 11:04:47  ...    1.401621e+09       1\n",
              "\n",
              "[4 rows x 16 columns]"
            ]
          },
          "metadata": {
            "tags": []
          },
          "execution_count": 129
        }
      ]
    },
    {
      "cell_type": "code",
      "metadata": {
        "id": "7LfMfvbQDC1B",
        "colab_type": "code",
        "colab": {
          "base_uri": "https://localhost:8080/",
          "height": 51
        },
        "outputId": "49a3a747-623a-47df-f60d-4ed57a247a7e"
      },
      "source": [
        "dfm['adopted'].value_counts(), dfm.shape"
      ],
      "execution_count": 127,
      "outputs": [
        {
          "output_type": "execute_result",
          "data": {
            "text/plain": [
              "(1    197918\n",
              " Name: adopted, dtype: int64, (197918, 16))"
            ]
          },
          "metadata": {
            "tags": []
          },
          "execution_count": 127
        }
      ]
    },
    {
      "cell_type": "code",
      "metadata": {
        "id": "Fmxq2gwW49km",
        "colab_type": "code",
        "colab": {
          "base_uri": "https://localhost:8080/",
          "height": 34
        },
        "outputId": "7441b4b4-0c65-4000-821b-4f43a560a9cc"
      },
      "source": [
        "dfme.shape"
      ],
      "execution_count": 142,
      "outputs": [
        {
          "output_type": "execute_result",
          "data": {
            "text/plain": [
              "(197918, 16)"
            ]
          },
          "metadata": {
            "tags": []
          },
          "execution_count": 142
        }
      ]
    },
    {
      "cell_type": "code",
      "metadata": {
        "id": "sJkOJscoEM6B",
        "colab_type": "code",
        "colab": {}
      },
      "source": [
        "dfme = pd.merge(dfme, dfa, on = 'user_id')"
      ],
      "execution_count": 130,
      "outputs": []
    },
    {
      "cell_type": "code",
      "metadata": {
        "id": "hsTTJWXhEeJP",
        "colab_type": "code",
        "colab": {
          "base_uri": "https://localhost:8080/",
          "height": 308
        },
        "outputId": "d0682690-baf6-469f-9768-6a46becfabf0"
      },
      "source": [
        "dfme.head()"
      ],
      "execution_count": 131,
      "outputs": [
        {
          "output_type": "execute_result",
          "data": {
            "text/html": [
              "<div>\n",
              "<style scoped>\n",
              "    .dataframe tbody tr th:only-of-type {\n",
              "        vertical-align: middle;\n",
              "    }\n",
              "\n",
              "    .dataframe tbody tr th {\n",
              "        vertical-align: top;\n",
              "    }\n",
              "\n",
              "    .dataframe thead th {\n",
              "        text-align: right;\n",
              "    }\n",
              "</style>\n",
              "<table border=\"1\" class=\"dataframe\">\n",
              "  <thead>\n",
              "    <tr style=\"text-align: right;\">\n",
              "      <th></th>\n",
              "      <th>object_id</th>\n",
              "      <th>creation_time</th>\n",
              "      <th>name</th>\n",
              "      <th>email</th>\n",
              "      <th>creation_source</th>\n",
              "      <th>last_session_creation_time</th>\n",
              "      <th>opted_in_to_mailing_list</th>\n",
              "      <th>enabled_for_marketing_drip</th>\n",
              "      <th>org_id</th>\n",
              "      <th>invited_by_user_id</th>\n",
              "      <th>user_id</th>\n",
              "      <th>visited</th>\n",
              "      <th>creation_timestamp</th>\n",
              "      <th>login_time</th>\n",
              "      <th>login_timestamp</th>\n",
              "      <th>adopted</th>\n",
              "    </tr>\n",
              "  </thead>\n",
              "  <tbody>\n",
              "    <tr>\n",
              "      <th>0</th>\n",
              "      <td>2</td>\n",
              "      <td>2013-11-15 03:45:04</td>\n",
              "      <td>Poole Matthew</td>\n",
              "      <td>MatthewPoole@gustr.com</td>\n",
              "      <td>ORG_INVITE</td>\n",
              "      <td>1.396238e+09</td>\n",
              "      <td>0</td>\n",
              "      <td>0</td>\n",
              "      <td>1</td>\n",
              "      <td>316.0</td>\n",
              "      <td>2</td>\n",
              "      <td>1</td>\n",
              "      <td>1.384487e+09</td>\n",
              "      <td>2013-11-15 03:45:04</td>\n",
              "      <td>1.384487e+09</td>\n",
              "      <td>1</td>\n",
              "    </tr>\n",
              "    <tr>\n",
              "      <th>1</th>\n",
              "      <td>2</td>\n",
              "      <td>2013-11-15 03:45:04</td>\n",
              "      <td>Poole Matthew</td>\n",
              "      <td>MatthewPoole@gustr.com</td>\n",
              "      <td>ORG_INVITE</td>\n",
              "      <td>1.396238e+09</td>\n",
              "      <td>0</td>\n",
              "      <td>0</td>\n",
              "      <td>1</td>\n",
              "      <td>316.0</td>\n",
              "      <td>2</td>\n",
              "      <td>1</td>\n",
              "      <td>1.384487e+09</td>\n",
              "      <td>2013-11-29 03:45:04</td>\n",
              "      <td>1.385697e+09</td>\n",
              "      <td>1</td>\n",
              "    </tr>\n",
              "    <tr>\n",
              "      <th>2</th>\n",
              "      <td>2</td>\n",
              "      <td>2013-11-15 03:45:04</td>\n",
              "      <td>Poole Matthew</td>\n",
              "      <td>MatthewPoole@gustr.com</td>\n",
              "      <td>ORG_INVITE</td>\n",
              "      <td>1.396238e+09</td>\n",
              "      <td>0</td>\n",
              "      <td>0</td>\n",
              "      <td>1</td>\n",
              "      <td>316.0</td>\n",
              "      <td>2</td>\n",
              "      <td>1</td>\n",
              "      <td>1.384487e+09</td>\n",
              "      <td>2013-12-09 03:45:04</td>\n",
              "      <td>1.386561e+09</td>\n",
              "      <td>1</td>\n",
              "    </tr>\n",
              "    <tr>\n",
              "      <th>3</th>\n",
              "      <td>2</td>\n",
              "      <td>2013-11-15 03:45:04</td>\n",
              "      <td>Poole Matthew</td>\n",
              "      <td>MatthewPoole@gustr.com</td>\n",
              "      <td>ORG_INVITE</td>\n",
              "      <td>1.396238e+09</td>\n",
              "      <td>0</td>\n",
              "      <td>0</td>\n",
              "      <td>1</td>\n",
              "      <td>316.0</td>\n",
              "      <td>2</td>\n",
              "      <td>1</td>\n",
              "      <td>1.384487e+09</td>\n",
              "      <td>2013-12-25 03:45:04</td>\n",
              "      <td>1.387943e+09</td>\n",
              "      <td>1</td>\n",
              "    </tr>\n",
              "    <tr>\n",
              "      <th>4</th>\n",
              "      <td>2</td>\n",
              "      <td>2013-11-15 03:45:04</td>\n",
              "      <td>Poole Matthew</td>\n",
              "      <td>MatthewPoole@gustr.com</td>\n",
              "      <td>ORG_INVITE</td>\n",
              "      <td>1.396238e+09</td>\n",
              "      <td>0</td>\n",
              "      <td>0</td>\n",
              "      <td>1</td>\n",
              "      <td>316.0</td>\n",
              "      <td>2</td>\n",
              "      <td>1</td>\n",
              "      <td>1.384487e+09</td>\n",
              "      <td>2013-12-31 03:45:04</td>\n",
              "      <td>1.388462e+09</td>\n",
              "      <td>1</td>\n",
              "    </tr>\n",
              "  </tbody>\n",
              "</table>\n",
              "</div>"
            ],
            "text/plain": [
              "   object_id        creation_time  ... login_timestamp adopted\n",
              "0          2  2013-11-15 03:45:04  ...    1.384487e+09       1\n",
              "1          2  2013-11-15 03:45:04  ...    1.385697e+09       1\n",
              "2          2  2013-11-15 03:45:04  ...    1.386561e+09       1\n",
              "3          2  2013-11-15 03:45:04  ...    1.387943e+09       1\n",
              "4          2  2013-11-15 03:45:04  ...    1.388462e+09       1\n",
              "\n",
              "[5 rows x 16 columns]"
            ]
          },
          "metadata": {
            "tags": []
          },
          "execution_count": 131
        }
      ]
    },
    {
      "cell_type": "code",
      "metadata": {
        "id": "KIudB7SHEivv",
        "colab_type": "code",
        "colab": {}
      },
      "source": [
        "dfme['adopted'] = dfme['adopted'].fillna(0)"
      ],
      "execution_count": 134,
      "outputs": []
    },
    {
      "cell_type": "code",
      "metadata": {
        "id": "cfYwet_TFVef",
        "colab_type": "code",
        "colab": {
          "base_uri": "https://localhost:8080/",
          "height": 34
        },
        "outputId": "1aa6f49b-d01b-4b00-88ce-42a07a773593"
      },
      "source": [
        "dfme.shape"
      ],
      "execution_count": 136,
      "outputs": [
        {
          "output_type": "execute_result",
          "data": {
            "text/plain": [
              "(197918, 16)"
            ]
          },
          "metadata": {
            "tags": []
          },
          "execution_count": 136
        }
      ]
    },
    {
      "cell_type": "code",
      "metadata": {
        "id": "7ei-t-XgFPb_",
        "colab_type": "code",
        "colab": {
          "base_uri": "https://localhost:8080/",
          "height": 51
        },
        "outputId": "8e7b18ef-6d86-4de9-9e78-5a838be1140f"
      },
      "source": [
        "dfme['adopted'].value_counts()"
      ],
      "execution_count": 135,
      "outputs": [
        {
          "output_type": "execute_result",
          "data": {
            "text/plain": [
              "1    197918\n",
              "Name: adopted, dtype: int64"
            ]
          },
          "metadata": {
            "tags": []
          },
          "execution_count": 135
        }
      ]
    },
    {
      "cell_type": "code",
      "metadata": {
        "id": "MzTSfp8KODaU",
        "colab_type": "code",
        "colab": {
          "base_uri": "https://localhost:8080/",
          "height": 308
        },
        "outputId": "623922d4-47c4-4817-88f9-55417a84409a"
      },
      "source": [
        "# joining\n",
        "\n",
        "dfj = dfme.join(dfa, on='user_id', rsuffix = '_adopted')\n",
        "dfj.head()"
      ],
      "execution_count": 158,
      "outputs": [
        {
          "output_type": "execute_result",
          "data": {
            "text/html": [
              "<div>\n",
              "<style scoped>\n",
              "    .dataframe tbody tr th:only-of-type {\n",
              "        vertical-align: middle;\n",
              "    }\n",
              "\n",
              "    .dataframe tbody tr th {\n",
              "        vertical-align: top;\n",
              "    }\n",
              "\n",
              "    .dataframe thead th {\n",
              "        text-align: right;\n",
              "    }\n",
              "</style>\n",
              "<table border=\"1\" class=\"dataframe\">\n",
              "  <thead>\n",
              "    <tr style=\"text-align: right;\">\n",
              "      <th></th>\n",
              "      <th>object_id</th>\n",
              "      <th>creation_time</th>\n",
              "      <th>name</th>\n",
              "      <th>email</th>\n",
              "      <th>creation_source</th>\n",
              "      <th>last_session_creation_time</th>\n",
              "      <th>opted_in_to_mailing_list</th>\n",
              "      <th>enabled_for_marketing_drip</th>\n",
              "      <th>org_id</th>\n",
              "      <th>invited_by_user_id</th>\n",
              "      <th>user_id</th>\n",
              "      <th>visited</th>\n",
              "      <th>creation_timestamp</th>\n",
              "      <th>login_time</th>\n",
              "      <th>login_timestamp</th>\n",
              "      <th>adopted</th>\n",
              "    </tr>\n",
              "  </thead>\n",
              "  <tbody>\n",
              "    <tr>\n",
              "      <th>0</th>\n",
              "      <td>1</td>\n",
              "      <td>2014-04-22 03:53:30</td>\n",
              "      <td>Clausen August</td>\n",
              "      <td>AugustCClausen@yahoo.com</td>\n",
              "      <td>GUEST_INVITE</td>\n",
              "      <td>1.398139e+09</td>\n",
              "      <td>1</td>\n",
              "      <td>0</td>\n",
              "      <td>11</td>\n",
              "      <td>10803.0</td>\n",
              "      <td>1</td>\n",
              "      <td>1</td>\n",
              "      <td>1.398139e+09</td>\n",
              "      <td>2014-04-22 03:53:30</td>\n",
              "      <td>1.398139e+09</td>\n",
              "      <td>NaN</td>\n",
              "    </tr>\n",
              "    <tr>\n",
              "      <th>1</th>\n",
              "      <td>2</td>\n",
              "      <td>2013-11-15 03:45:04</td>\n",
              "      <td>Poole Matthew</td>\n",
              "      <td>MatthewPoole@gustr.com</td>\n",
              "      <td>ORG_INVITE</td>\n",
              "      <td>1.396238e+09</td>\n",
              "      <td>0</td>\n",
              "      <td>0</td>\n",
              "      <td>1</td>\n",
              "      <td>316.0</td>\n",
              "      <td>2</td>\n",
              "      <td>1</td>\n",
              "      <td>1.384487e+09</td>\n",
              "      <td>2013-11-15 03:45:04</td>\n",
              "      <td>1.384487e+09</td>\n",
              "      <td>1.0</td>\n",
              "    </tr>\n",
              "    <tr>\n",
              "      <th>2</th>\n",
              "      <td>2</td>\n",
              "      <td>2013-11-15 03:45:04</td>\n",
              "      <td>Poole Matthew</td>\n",
              "      <td>MatthewPoole@gustr.com</td>\n",
              "      <td>ORG_INVITE</td>\n",
              "      <td>1.396238e+09</td>\n",
              "      <td>0</td>\n",
              "      <td>0</td>\n",
              "      <td>1</td>\n",
              "      <td>316.0</td>\n",
              "      <td>2</td>\n",
              "      <td>1</td>\n",
              "      <td>1.384487e+09</td>\n",
              "      <td>2013-11-29 03:45:04</td>\n",
              "      <td>1.385697e+09</td>\n",
              "      <td>1.0</td>\n",
              "    </tr>\n",
              "    <tr>\n",
              "      <th>3</th>\n",
              "      <td>2</td>\n",
              "      <td>2013-11-15 03:45:04</td>\n",
              "      <td>Poole Matthew</td>\n",
              "      <td>MatthewPoole@gustr.com</td>\n",
              "      <td>ORG_INVITE</td>\n",
              "      <td>1.396238e+09</td>\n",
              "      <td>0</td>\n",
              "      <td>0</td>\n",
              "      <td>1</td>\n",
              "      <td>316.0</td>\n",
              "      <td>2</td>\n",
              "      <td>1</td>\n",
              "      <td>1.384487e+09</td>\n",
              "      <td>2013-12-09 03:45:04</td>\n",
              "      <td>1.386561e+09</td>\n",
              "      <td>1.0</td>\n",
              "    </tr>\n",
              "    <tr>\n",
              "      <th>4</th>\n",
              "      <td>2</td>\n",
              "      <td>2013-11-15 03:45:04</td>\n",
              "      <td>Poole Matthew</td>\n",
              "      <td>MatthewPoole@gustr.com</td>\n",
              "      <td>ORG_INVITE</td>\n",
              "      <td>1.396238e+09</td>\n",
              "      <td>0</td>\n",
              "      <td>0</td>\n",
              "      <td>1</td>\n",
              "      <td>316.0</td>\n",
              "      <td>2</td>\n",
              "      <td>1</td>\n",
              "      <td>1.384487e+09</td>\n",
              "      <td>2013-12-25 03:45:04</td>\n",
              "      <td>1.387943e+09</td>\n",
              "      <td>1.0</td>\n",
              "    </tr>\n",
              "  </tbody>\n",
              "</table>\n",
              "</div>"
            ],
            "text/plain": [
              "   object_id        creation_time  ... login_timestamp adopted\n",
              "0          1  2014-04-22 03:53:30  ...    1.398139e+09     NaN\n",
              "1          2  2013-11-15 03:45:04  ...    1.384487e+09     1.0\n",
              "2          2  2013-11-15 03:45:04  ...    1.385697e+09     1.0\n",
              "3          2  2013-11-15 03:45:04  ...    1.386561e+09     1.0\n",
              "4          2  2013-11-15 03:45:04  ...    1.387943e+09     1.0\n",
              "\n",
              "[5 rows x 16 columns]"
            ]
          },
          "metadata": {
            "tags": []
          },
          "execution_count": 158
        }
      ]
    },
    {
      "cell_type": "code",
      "metadata": {
        "id": "byR0aQIzOd0G",
        "colab_type": "code",
        "colab": {
          "base_uri": "https://localhost:8080/",
          "height": 308
        },
        "outputId": "bacba353-a072-4830-b0df-e9a31c64356c"
      },
      "source": [
        "dfj['adopted'] = dfj['adopted'].fillna(0)\n",
        "dfj.head()"
      ],
      "execution_count": 159,
      "outputs": [
        {
          "output_type": "execute_result",
          "data": {
            "text/html": [
              "<div>\n",
              "<style scoped>\n",
              "    .dataframe tbody tr th:only-of-type {\n",
              "        vertical-align: middle;\n",
              "    }\n",
              "\n",
              "    .dataframe tbody tr th {\n",
              "        vertical-align: top;\n",
              "    }\n",
              "\n",
              "    .dataframe thead th {\n",
              "        text-align: right;\n",
              "    }\n",
              "</style>\n",
              "<table border=\"1\" class=\"dataframe\">\n",
              "  <thead>\n",
              "    <tr style=\"text-align: right;\">\n",
              "      <th></th>\n",
              "      <th>object_id</th>\n",
              "      <th>creation_time</th>\n",
              "      <th>name</th>\n",
              "      <th>email</th>\n",
              "      <th>creation_source</th>\n",
              "      <th>last_session_creation_time</th>\n",
              "      <th>opted_in_to_mailing_list</th>\n",
              "      <th>enabled_for_marketing_drip</th>\n",
              "      <th>org_id</th>\n",
              "      <th>invited_by_user_id</th>\n",
              "      <th>user_id</th>\n",
              "      <th>visited</th>\n",
              "      <th>creation_timestamp</th>\n",
              "      <th>login_time</th>\n",
              "      <th>login_timestamp</th>\n",
              "      <th>adopted</th>\n",
              "    </tr>\n",
              "  </thead>\n",
              "  <tbody>\n",
              "    <tr>\n",
              "      <th>0</th>\n",
              "      <td>1</td>\n",
              "      <td>2014-04-22 03:53:30</td>\n",
              "      <td>Clausen August</td>\n",
              "      <td>AugustCClausen@yahoo.com</td>\n",
              "      <td>GUEST_INVITE</td>\n",
              "      <td>1.398139e+09</td>\n",
              "      <td>1</td>\n",
              "      <td>0</td>\n",
              "      <td>11</td>\n",
              "      <td>10803.0</td>\n",
              "      <td>1</td>\n",
              "      <td>1</td>\n",
              "      <td>1.398139e+09</td>\n",
              "      <td>2014-04-22 03:53:30</td>\n",
              "      <td>1.398139e+09</td>\n",
              "      <td>0.0</td>\n",
              "    </tr>\n",
              "    <tr>\n",
              "      <th>1</th>\n",
              "      <td>2</td>\n",
              "      <td>2013-11-15 03:45:04</td>\n",
              "      <td>Poole Matthew</td>\n",
              "      <td>MatthewPoole@gustr.com</td>\n",
              "      <td>ORG_INVITE</td>\n",
              "      <td>1.396238e+09</td>\n",
              "      <td>0</td>\n",
              "      <td>0</td>\n",
              "      <td>1</td>\n",
              "      <td>316.0</td>\n",
              "      <td>2</td>\n",
              "      <td>1</td>\n",
              "      <td>1.384487e+09</td>\n",
              "      <td>2013-11-15 03:45:04</td>\n",
              "      <td>1.384487e+09</td>\n",
              "      <td>1.0</td>\n",
              "    </tr>\n",
              "    <tr>\n",
              "      <th>2</th>\n",
              "      <td>2</td>\n",
              "      <td>2013-11-15 03:45:04</td>\n",
              "      <td>Poole Matthew</td>\n",
              "      <td>MatthewPoole@gustr.com</td>\n",
              "      <td>ORG_INVITE</td>\n",
              "      <td>1.396238e+09</td>\n",
              "      <td>0</td>\n",
              "      <td>0</td>\n",
              "      <td>1</td>\n",
              "      <td>316.0</td>\n",
              "      <td>2</td>\n",
              "      <td>1</td>\n",
              "      <td>1.384487e+09</td>\n",
              "      <td>2013-11-29 03:45:04</td>\n",
              "      <td>1.385697e+09</td>\n",
              "      <td>1.0</td>\n",
              "    </tr>\n",
              "    <tr>\n",
              "      <th>3</th>\n",
              "      <td>2</td>\n",
              "      <td>2013-11-15 03:45:04</td>\n",
              "      <td>Poole Matthew</td>\n",
              "      <td>MatthewPoole@gustr.com</td>\n",
              "      <td>ORG_INVITE</td>\n",
              "      <td>1.396238e+09</td>\n",
              "      <td>0</td>\n",
              "      <td>0</td>\n",
              "      <td>1</td>\n",
              "      <td>316.0</td>\n",
              "      <td>2</td>\n",
              "      <td>1</td>\n",
              "      <td>1.384487e+09</td>\n",
              "      <td>2013-12-09 03:45:04</td>\n",
              "      <td>1.386561e+09</td>\n",
              "      <td>1.0</td>\n",
              "    </tr>\n",
              "    <tr>\n",
              "      <th>4</th>\n",
              "      <td>2</td>\n",
              "      <td>2013-11-15 03:45:04</td>\n",
              "      <td>Poole Matthew</td>\n",
              "      <td>MatthewPoole@gustr.com</td>\n",
              "      <td>ORG_INVITE</td>\n",
              "      <td>1.396238e+09</td>\n",
              "      <td>0</td>\n",
              "      <td>0</td>\n",
              "      <td>1</td>\n",
              "      <td>316.0</td>\n",
              "      <td>2</td>\n",
              "      <td>1</td>\n",
              "      <td>1.384487e+09</td>\n",
              "      <td>2013-12-25 03:45:04</td>\n",
              "      <td>1.387943e+09</td>\n",
              "      <td>1.0</td>\n",
              "    </tr>\n",
              "  </tbody>\n",
              "</table>\n",
              "</div>"
            ],
            "text/plain": [
              "   object_id        creation_time  ... login_timestamp adopted\n",
              "0          1  2014-04-22 03:53:30  ...    1.398139e+09     0.0\n",
              "1          2  2013-11-15 03:45:04  ...    1.384487e+09     1.0\n",
              "2          2  2013-11-15 03:45:04  ...    1.385697e+09     1.0\n",
              "3          2  2013-11-15 03:45:04  ...    1.386561e+09     1.0\n",
              "4          2  2013-11-15 03:45:04  ...    1.387943e+09     1.0\n",
              "\n",
              "[5 rows x 16 columns]"
            ]
          },
          "metadata": {
            "tags": []
          },
          "execution_count": 159
        }
      ]
    },
    {
      "cell_type": "code",
      "metadata": {
        "id": "VqIkSAqdOwAk",
        "colab_type": "code",
        "colab": {
          "base_uri": "https://localhost:8080/",
          "height": 68
        },
        "outputId": "a3f21e5e-4fa9-4491-82cf-85cb61e55e1b"
      },
      "source": [
        "dfj['adopted'].value_counts()"
      ],
      "execution_count": 160,
      "outputs": [
        {
          "output_type": "execute_result",
          "data": {
            "text/plain": [
              "1.0    197918\n",
              "0.0      9999\n",
              "Name: adopted, dtype: int64"
            ]
          },
          "metadata": {
            "tags": []
          },
          "execution_count": 160
        }
      ]
    },
    {
      "cell_type": "markdown",
      "metadata": {
        "id": "_9lvBD0rPBvY",
        "colab_type": "text"
      },
      "source": [
        "Now we have the full dataframe with 'adopted' column as desired."
      ]
    },
    {
      "cell_type": "code",
      "metadata": {
        "id": "FmIXYdOiPIFT",
        "colab_type": "code",
        "colab": {
          "base_uri": "https://localhost:8080/",
          "height": 516
        },
        "outputId": "24e9f9e5-6608-4163-d01a-3201325a1289"
      },
      "source": [
        "sns.countplot(dfj['creation_source'], hue=dfj['adopted'])"
      ],
      "execution_count": 161,
      "outputs": [
        {
          "output_type": "execute_result",
          "data": {
            "text/plain": [
              "<matplotlib.axes._subplots.AxesSubplot at 0x7fefa1798f60>"
            ]
          },
          "metadata": {
            "tags": []
          },
          "execution_count": 161
        },
        {
          "output_type": "display_data",
          "data": {
            "image/png": "[encoded data removed]",
            "text/plain": [
              "<Figure size 648x576 with 1 Axes>"
            ]
          },
          "metadata": {
            "tags": [],
            "needs_background": "light"
          }
        }
      ]
    },
    {
      "cell_type": "markdown",
      "metadata": {
        "id": "hFx26dHYP31l",
        "colab_type": "text"
      },
      "source": [
        "Let us see how adoption varies by creation_source"
      ]
    },
    {
      "cell_type": "code",
      "metadata": {
        "id": "LCEUbgOJP8d6",
        "colab_type": "code",
        "colab": {
          "base_uri": "https://localhost:8080/",
          "height": 120
        },
        "outputId": "7576d81b-57ce-4558-c643-1b487691da72"
      },
      "source": [
        "adoption_creation = dfj.groupby('creation_source')['adopted'].sum() / dfj['creation_source'].value_counts()\n",
        "adoption_creation"
      ],
      "execution_count": 164,
      "outputs": [
        {
          "output_type": "execute_result",
          "data": {
            "text/plain": [
              "GUEST_INVITE          0.960509\n",
              "ORG_INVITE            0.947739\n",
              "PERSONAL_PROJECTS     0.954011\n",
              "SIGNUP                0.944440\n",
              "SIGNUP_GOOGLE_AUTH    0.955696\n",
              "dtype: float64"
            ]
          },
          "metadata": {
            "tags": []
          },
          "execution_count": 164
        }
      ]
    },
    {
      "cell_type": "code",
      "metadata": {
        "id": "Tydu2SEsQOro",
        "colab_type": "code",
        "colab": {
          "base_uri": "https://localhost:8080/",
          "height": 608
        },
        "outputId": "cc3af9fb-37a6-4d9a-c88a-7bfa7c761c60"
      },
      "source": [
        "adoption_creation.plot(kind='bar')"
      ],
      "execution_count": 167,
      "outputs": [
        {
          "output_type": "execute_result",
          "data": {
            "text/plain": [
              "<matplotlib.axes._subplots.AxesSubplot at 0x7fefac9ffa90>"
            ]
          },
          "metadata": {
            "tags": []
          },
          "execution_count": 167
        },
        {
          "output_type": "display_data",
          "data": {
            "image/png": "[encoded data removed]",
            "text/plain": [
              "<Figure size 648x576 with 1 Axes>"
            ]
          },
          "metadata": {
            "tags": [],
            "needs_background": "light"
          }
        }
      ]
    },
    {
      "cell_type": "code",
      "metadata": {
        "id": "cg9sq4OlQoBD",
        "colab_type": "code",
        "colab": {
          "base_uri": "https://localhost:8080/",
          "height": 34
        },
        "outputId": "cf3c18f6-0761-4bc8-a568-cb7693e77c8b"
      },
      "source": [
        "diff = dfj[dfj['adopted'] == 0]['creation_timestamp'].mean() - dfj[dfj['adopted'] == 1]['creation_timestamp'].mean()\n",
        "diff / 86400"
      ],
      "execution_count": 173,
      "outputs": [
        {
          "output_type": "execute_result",
          "data": {
            "text/plain": [
              "210.35517088410202"
            ]
          },
          "metadata": {
            "tags": []
          },
          "execution_count": 173
        }
      ]
    },
    {
      "cell_type": "markdown",
      "metadata": {
        "id": "jiX4k9ZKSR7G",
        "colab_type": "text"
      },
      "source": [
        "It seems users who have not adopted, have joined on an average 210 days later than those ho adopted."
      ]
    },
    {
      "cell_type": "markdown",
      "metadata": {
        "id": "fw9y-sH9P7zu",
        "colab_type": "text"
      },
      "source": [
        ""
      ]
    },
    {
      "cell_type": "markdown",
      "metadata": {
        "id": "g1SvzpQQyqtC",
        "colab_type": "text"
      },
      "source": [
        "86400 seconds in a day\n",
        "\n",
        "604800 seconds in a week"
      ]
    }
  ]
}